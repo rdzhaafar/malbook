{
 "cells": [
  {
   "cell_type": "markdown",
   "metadata": {},
   "source": [
    "# Configure the scan"
   ]
  },
  {
   "cell_type": "code",
   "execution_count": 2,
   "metadata": {},
   "outputs": [],
   "source": [
    "import windows\n",
    "# DEBUG:\n",
    "import importlib\n",
    "windows = importlib.reload(windows)\n",
    "\n",
    "config = windows.Config"
   ]
  },
  {
   "cell_type": "markdown",
   "metadata": {},
   "source": [
    "# Run scan\n"
   ]
  },
  {
   "cell_type": "code",
   "execution_count": 3,
   "metadata": {
    "scrolled": false
   },
   "outputs": [
    {
     "data": {
      "text/html": [
       "<b><hr /></b><h1>Report for c66afad73cc34e9130f070a1834174fe231c55110302ac0104223a3ff0425e2d:</h1>"
      ]
     },
     "metadata": {},
     "output_type": "display_data"
    },
    {
     "data": {
      "text/html": [
       "<b><hr /></b><h3>Computed hashes:</h3>"
      ]
     },
     "metadata": {},
     "output_type": "display_data"
    },
    {
     "data": {
      "text/html": [
       "<p><ul><li><b>md5</b> - ab8a97dbebe961646037da6c31ae49fd</li><li><b>sha1</b> - 51cd1170bbfc42d58a492ef140bda8ffc767f5a9</li><li><b>sha256</b> - c66afad73cc34e9130f070a1834174fe231c55110302ac0104223a3ff0425e2d</li><li><b>imphash</b> - dc73a9bd8de0fd640549c85ac4089b87</li><li><b>spamsum</b> - 12288:oJ9faIRpAXJZpFsuzlKgMX1Bu+y7JdFiX6:Y9faDFOORMX14+yvFT</li><li><b>tlsh</b> - T10AB422C09B59EE83EAF54AFD8A53ABD15C25843270E0DD0D30AA79ED5BB6FC44C24817</li></ul></p>"
      ]
     },
     "metadata": {},
     "output_type": "display_data"
    },
    {
     "data": {
      "text/html": [
       "<b><hr /></b><h3>Malware Bazaar:</h3>"
      ]
     },
     "metadata": {},
     "output_type": "display_data"
    },
    {
     "data": {
      "text/html": [
       "<p><ul><li>There is no sample with matching sha256 on Malware Bazaar</li><li>These samples from Malware Bazaar had matching imphash:\n",
       "                    <ul>\n",
       "                        <li><a href=\"https://bazaar.abuse.ch/sample3ca288d5038e472f5a7a796dae24c5050345eb58f0d746bf09b67f74c90fe705\">3ca288d5038e472f5a7a796dae24c5050345eb58f0d746bf09b67f74c90fe705</a></li>\n",
       "                    </ul>\n",
       "                   <li>There are no samples with matching TLSH on Malware Bazaar</li></ul></p>"
      ]
     },
     "metadata": {},
     "output_type": "display_data"
    },
    {
     "data": {
      "text/html": [
       "<b><hr /></b><h3>Strings:</h3>"
      ]
     },
     "metadata": {},
     "output_type": "display_data"
    },
    {
     "data": {
      "text/html": [
       "\n",
       "        <p>\n",
       "            <details>\n",
       "                <summary>\n",
       "                    Click here to show all <b>271</b>\n",
       "                </summary>\n",
       "                <ul>\n",
       "                    <li>\\dup2patcher.dll</li><li>)uI%dO1v</li><li>name=&quot;Microsoft.Windows.Common-Controls&quot;</li><li>&quot; &quot;&quot;$%%$</li><li>&lt;requestedPrivileges&gt;</li><li>publicKeyToken=&quot;6595b64144ccf1df&quot;</li><li>GetProcAddress</li><li>ExitProcess</li><li>VirtualAlloc</li><li>DeleteFileA</li><li>FreeLibrary</li><li>LoadLibraryA</li><li>GetModuleHandleA</li><li>LoadResource</li><li>WriteFile</li><li>CreateFileA</li><li>level=&quot;requireAdministrator&quot;</li><li>IpPZj.BA&lt;</li><li>&lt;requestedExecutionLevel</li><li>version=&quot;2.0.0.0&quot;</li><li>version=&quot;6.0.0.0&quot;</li><li>&#x27;&#x27;&#x27;(((J6EEEV!A=</li><li>pEcVY4R6j\\</li><li>7doOW&gt;f&gt;]</li><li>{\\aMtPgt</li><li>&lt;:&gt;7Aubeh</li><li>Ty%bTaW4@5C</li><li>LJNIJMFA:</li><li>i@DIMNKMK</li><li>language=&quot;*&quot;</li><li>type=&quot;win32&quot;</li><li>(aG;~E-p\\</li><li>&#x27;cN`JN3}bE</li><li>#=/Ake_u</li><li>HP_U`pi}`o</li><li>twvvwu{a</li><li>|GuAfUrYvYp</li><li>&lt;dependentAssembly&gt;</li><li>l@EIR_Q[</li><li>GeU|@]mT</li><li>R:i/Agx.</li><li>aJgIcE[kR</li><li>RsCZhRnK]a}M4</li><li>e\\xIsMoYwOj</li><li>\\pEcMePp</li><li>h}CaotKhw</li><li>load_patcher</li><li>&lt;assemblyIdentity</li><li>so|eyfun</li><li>[XU_OFBA</li><li>&lt;/dependentAssembly&gt;</li><li>$S*wC&quot;ajT</li><li>`MEC}]mR</li><li>|B\\lWtE_</li><li>7760,=&#x27;5-8</li><li>%ks=#atr</li><li>]uPxC`MgO</li><li>PAPADDINGXXPADDINGPADDINGXXPADDINGPADDINGX</li><li>8;85=0:6</li><li>&lt;dependency&gt;</li><li>J[CHW@EI</li><li>DDv`fffaDL</li><li>uiAccess=&quot;false&quot;</li><li>&lt;/dependency&gt;</li><li>H[dCNThE</li><li>VnK]cCLU</li><li>7322313=.</li><li>/(00))!00/</li><li>63/&lt;%9&amp;5.</li><li>&gt;??&gt;8&lt;9988;</li><li>!563-?!3</li><li>52-&lt;&quot;2):</li><li>!40)=&quot;1&amp;</li><li>name=&quot;Patch&quot;</li><li>E};CvSaI</li><li>AZoM]dH]</li><li>&#x27;1n\\d`rg</li><li>,.(*((+0</li><li>HbH`CToH[</li><li>nELHIyz8</li><li>&lt;/assembly&gt;</li><li>cYDN3#8</li><li>wBVoK\\cBLTkJTd?</li><li>iBGEEDDG</li><li>H[Tk5=mp</li><li>&#x27;&#x27;&#x27;(((..#$$</li><li>&#x27;&#x27;&#x27;(((..#$$$</li><li>tMk_lU{C</li><li>N?eSM=bS</li><li>nga]~KwT</li><li>APCIVJYp</li><li>+++$$$#.</li><li>GSdCNRc;</li><li>Flf\\hBYs</li><li>ghcdh|SYC</li><li>eyfunwiy</li><li>cpeseqbk</li><li>b_sTF/By</li><li>jwRhNTnF</li><li>&lt;security&gt;</li><li>3%sZ&quot;m6@2</li><li>&lt;/security&gt;</li><li>%u-zWTF)</li><li>:Z)n\t&lt;P%c}m</li><li>!This program cannot be run in DOS mode.</li><li>processorArchitecture=&quot;X86&quot;</li><li>PA&lt;?xml version=&quot;1.0&quot; encoding=&quot;UTF-8&quot; standalone=&quot;yes&quot;?&gt;</li><li>&lt;description&gt;Patch&lt;/description&gt;</li><li>&lt;/requestedPrivileges&gt;</li><li>3333333333333333333333333333333333333333333333333333330</li><li>3333333330</li><li>&lt;/trustInfo&gt;</li><li>GetTempPathA</li><li>SizeofResource</li><li>CloseHandle</li><li>FlushFileBuffers</li><li>RtlMoveMemory</li><li>FindResourceA</li><li>2,&lt;&#x27;4-9oh}l6</li><li>A;0(Me6!</li><li>_^3{t|Wi</li><li>So&#x27;6wUE=i~</li><li>lstrcatA</li><li>/&gt;</li><li>U7`W3~E</li><li>Lj^oU{A[</li><li>=$$###....#$N3!A=</li><li>R3333!A=</li><li>2`7H\ti&gt;;</li><li>r\\8mW;P5Y</li><li>&gt;8rJHN:C&lt;</li><li>C0wT&#x27;n\\&amp;</li><li>S%S&#x27;R*oI</li><li>?!1(:$2&amp;(?</li><li>)6%./-/+0</li><li>5$&lt;)1&gt;&#x27;;</li><li>(&gt;!0$4*:</li><li>.&gt;!0(?&quot;2</li><li>l}nyd}b{</li><li>181&gt;1D1J1P1V1\\1b1h1n1t1z1</li><li>.~?&lt;/@[}</li><li>ti\t}t3RE</li><li>/6$2 *6#</li><li>_$&amp;&amp;^\t5#</li><li>9 ,+(+*$</li><li>D%&amp; `Lhy</li><li>kernel32.dll</li><li>w+2Mjlel</li><li>&#x27;?*FkaQxDeWyC]o</li><li>wwu33333333Www|</li><li>17;I0;0;P</li><li>C\\oPs@Uq&gt;</li><li>!#aboob@</li><li>&#x27;k9NON6K?</li><li>@ZnM\\dI]`</li><li>W_R\\RZU\\</li><li>o}gwnzgs</li><li>00!)$!!0D</li><li>Y^4;;;;;;;;&amp;&amp;&amp;&amp;&amp;&amp;&amp;&amp;&amp;;;;;;;dc</li><li>==8@C$#.</li><li>/(0F;N+00/</li><li>=],1&gt;W1m</li><li>,DDv`f33&gt;</li><li>5msK:NM,mG</li><li>&#x27;&#x27;&#x27;(((..#$$$P33[$$$#.</li><li>C5`lmcxT</li><li>&#x27;&#x27;&#x27;(((..#$M@</li><li>ap@ov@lq</li><li>OcLcJfKc</li><li>c\\{NpNn]</li><li>]]BSYT&#x27;Y</li><li>bccb\\|Op</li><li>KkTuGYkQiN</li><li>DDvffffaDL</li><li>DvffffaDL</li><li>DMffff30</li><li>[H_H]K]I</li><li>8CrC5- s</li><li>DAffffffff</li><li>&lt;&lt;&lt;&lt;&lt;&lt;&lt;.........CC&lt;</li><li>)U116&lt;&#x27;V</li><li>W$++C8`O</li><li>3(O:Ky6&quot;F</li><li>7@$vp^Ku</li><li>/~KFo;)O</li><li>23_,&gt;:g8?</li><li>/(0!6G!00/</li><li>=&lt;{vCn3$</li><li>Vlf9.}F&gt;v</li><li>P+h5g;l7`</li><li>Lb\tpp#`XO</li><li>7QYZ4%9QE</li><li>qI78/Blb</li><li>&#x27;&#x27;&#x27;(((..#I</li><li>&#x27;&#x27;&#x27;(((.U_&lt;</li><li>ora]3XRQ</li><li>ax&#x27;:d(.x</li><li>z:(&lt;!/Ai</li><li>Bi47_jOw\\z</li><li>iHVq=qbo</li><li>nhjodQ@8}</li><li>QVYXFt.VPU</li><li>;xZJLHHIId</li><li>f3333Www|</li><li>oJ`@OVjK</li><li>XxGfV}Ba</li><li>VH~BcQwI</li><li>T\\QWYQRUV</li><li>XILJz~{xz</li><li>N3wZ0t_2</li><li>fc33333fffff`fffgD</li><li>ffff3333Www|</li><li>DMffff3333Www|</li><li>`jvceks^</li><li>QkM[g@OV</li><li>XlV+W:fu</li><li>Z9,cvfxl</li><li>8GZJnXd{</li><li>?00K2**X</li><li>jq\t|peS,&#x27;</li><li>S,+$$$#.</li><li>1~&#x27;T.j3_</li><li>Y[^]SX\\V%</li><li>!=-m]\\\\\\Hw</li><li>11T\\\\T11</li><li>Mc7KdJb;N&#x27;;</li><li>^__X]YXX</li><li>&gt;}@WwCy1</li><li>2zY*s&#x27;t-</li><li>qdfb}nqb</li><li>DMfffff`</li><li>QJ:cLJNV</li><li>.BkgX{HmY</li><li>8/BlbZ}HpKp</li><li>K.xy:rdd</li><li>wwy333330</li><li>DMffff3333Z</li><li>gxIqJuJkyC</li><li>HMKMIJKIG</li><li>ZbyNmBexJr</li><li>QRQPVRUV</li><li>FFFFFFFFFFFFFFFFFF9999```)</li><li>ffffffff`</li><li>ffffffffffff`ff</li><li>&lt;trustInfo xmlns=&quot;urn:schemas-microsoft-com:asm.v3&quot;&gt;</li><li>ffffffffffffffffffffffffffffff`</li><li>ffffffffffffffffff</li><li>DMffffffff</li><li>ffffffff</li><li>5+$$3!A=</li><li>EQ?P&amp;*&#x27;/</li><li>\\(q~:gI-</li><li>%;+B`RzA</li><li>~IY|Z]+w!z</li><li>&#x27;r&lt;Z6_#LoZ</li><li>?}\tA/7`]</li><li>t^~ItZ|J</li><li>\\V^MJIJK</li><li>{g~f`yjx[</li><li>&gt;@&gt;~].s#j</li><li>V~=&quot;-4(5%,</li><li>,t)y&quot;q(|</li><li>wqm~csj~_</li><li>#6/!h0X:</li><li>2Zqty|0R~</li><li>n-}bZ4QQ3</li><li>(V\t@c-V</li><li>d4:K`y\t|</li><li>Mq**j\t`K</li><li>&lt;assembly xmlns=&quot;urn:schemas-microsoft-com:asm.v1&quot; manifestVersion=&quot;1.0&quot;&gt;</li><li></li>\n",
       "                </ul>\n",
       "            </details>\n",
       "        </p>\n",
       "        "
      ]
     },
     "metadata": {},
     "output_type": "display_data"
    },
    {
     "data": {
      "text/html": [
       "<b><hr /></b><h3>Matching Yara rules:</h3>"
      ]
     },
     "metadata": {},
     "output_type": "display_data"
    },
    {
     "data": {
      "text/html": [
       "<p><ul><li>base64.yar</li><li>ip.yar</li><li>packer_compiler_signatures.yar</li><li>capabilities.yar</li><li>domain.yar</li><li>peid.yar</li></ul></p>"
      ]
     },
     "metadata": {},
     "output_type": "display_data"
    },
    {
     "data": {
      "text/html": [
       "<b><hr /></b><h3>Packer/compiler detected by PEID:</h3>"
      ]
     },
     "metadata": {},
     "output_type": "display_data"
    },
    {
     "data": {
      "text/html": [
       "<p>Safeguard 1.03 -> Simonzh</p>"
      ]
     },
     "metadata": {},
     "output_type": "display_data"
    },
    {
     "data": {
      "text/html": [
       "<b><hr /></b><h3>Packers matched by PE section:</h3>"
      ]
     },
     "metadata": {},
     "output_type": "display_data"
    },
    {
     "data": {
      "text/html": [
       "<p><b>NONE</b></p>"
      ]
     },
     "metadata": {},
     "output_type": "display_data"
    },
    {
     "data": {
      "text/html": [
       "<b><hr /></b><h3>PE Imports:</h3>"
      ]
     },
     "metadata": {},
     "output_type": "display_data"
    },
    {
     "data": {
      "text/html": [
       "\n",
       "        <p>\n",
       "            <details>\n",
       "                <summary>\n",
       "                    Click here to show all <b>17</b>\n",
       "                </summary>\n",
       "                <ul>\n",
       "                    <li>DeleteFileA - <b>Evasion</b> [<a href=https://google.com/search?q=DeleteFileA>Google</a>] [<a href=https://malapi.io/winapi/DeleteFileA>MalAPI</a>]<li>GetModuleHandleA - <b>Injection</b> [<a href=https://google.com/search?q=GetModuleHandleA>Google</a>] [<a href=https://malapi.io/winapi/GetModuleHandleA>MalAPI</a>]<li>GetProcAddress - <b>Injection</b> [<a href=https://google.com/search?q=GetProcAddress>Google</a>] [<a href=https://malapi.io/winapi/GetProcAddress>MalAPI</a>]<li>LoadLibraryA - <b>Injection</b> [<a href=https://google.com/search?q=LoadLibraryA>Google</a>] [<a href=https://malapi.io/winapi/LoadLibraryA>MalAPI</a>]<li>LoadResource - <b>Evasion</b> [<a href=https://google.com/search?q=LoadResource>Google</a>] [<a href=https://malapi.io/winapi/LoadResource>MalAPI</a>]<li>RtlMoveMemory - <b>Injection</b> [<a href=https://google.com/search?q=RtlMoveMemory>Google</a>] [<a href=https://malapi.io/winapi/RtlMoveMemory>MalAPI</a>]<li>SizeofResource - <b>Evasion</b> [<a href=https://google.com/search?q=SizeofResource>Google</a>] [<a href=https://malapi.io/winapi/SizeofResource>MalAPI</a>]<li>VirtualAlloc - <b>Injection</b> [<a href=https://google.com/search?q=VirtualAlloc>Google</a>] [<a href=https://malapi.io/winapi/VirtualAlloc>MalAPI</a>]<li>FindResourceA - <b>Helper</b> [<a href=https://google.com/search?q=FindResourceA>Google</a>] [<a href=https://malapi.io/winapi/FindResourceA>MalAPI</a>]<li>GetTempPathA - <b>Helper</b> [<a href=https://google.com/search?q=GetTempPathA>Google</a>] [<a href=https://malapi.io/winapi/GetTempPathA>MalAPI</a>]<li>lstrcatA - <b>Helper</b> [<a href=https://google.com/search?q=lstrcatA>Google</a>] [<a href=https://malapi.io/winapi/lstrcatA>MalAPI</a>]<li>CreateFileA - <b>Helper</b> [<a href=https://google.com/search?q=CreateFileA>Google</a>] [<a href=https://malapi.io/winapi/CreateFileA>MalAPI</a>]<li>WriteFile - <b>Helper</b> [<a href=https://google.com/search?q=WriteFile>Google</a>] [<a href=https://malapi.io/winapi/WriteFile>MalAPI</a>]<li>ExitProcess [<a href=https://google.com/search?q=ExitProcess>Google</a>]</li><li>FreeLibrary [<a href=https://google.com/search?q=FreeLibrary>Google</a>]</li><li>CloseHandle [<a href=https://google.com/search?q=CloseHandle>Google</a>]</li><li>FlushFileBuffers [<a href=https://google.com/search?q=FlushFileBuffers>Google</a>]</li>\n",
       "                </ul>\n",
       "            </details>\n",
       "        </p>\n",
       "        "
      ]
     },
     "metadata": {},
     "output_type": "display_data"
    }
   ],
   "source": [
    "import os\n",
    "from os import path\n",
    "\n",
    "for sample_zip in os.listdir('samples'):\n",
    "       sample_path = path.join('samples', sample_zip)\n",
    "       windows.scan(sample_path, config)"
   ]
  }
 ],
 "metadata": {
  "kernelspec": {
   "display_name": "Python 3 (ipykernel)",
   "language": "python",
   "name": "python3"
  },
  "language_info": {
   "codemirror_mode": {
    "name": "ipython",
    "version": 3
   },
   "file_extension": ".py",
   "mimetype": "text/x-python",
   "name": "python",
   "nbconvert_exporter": "python",
   "pygments_lexer": "ipython3",
   "version": "3.9.12"
  }
 },
 "nbformat": 4,
 "nbformat_minor": 2
}
