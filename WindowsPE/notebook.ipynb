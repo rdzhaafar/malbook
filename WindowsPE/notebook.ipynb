{
 "cells": [
  {
   "cell_type": "markdown",
   "metadata": {},
   "source": [
    "# Configure the scan"
   ]
  },
  {
   "cell_type": "code",
   "execution_count": 5,
   "metadata": {},
   "outputs": [],
   "source": [
    "import windows\n",
    "# DEBUG:\n",
    "import importlib\n",
    "windows = importlib.reload(windows)\n",
    "\n",
    "config = windows.Config"
   ]
  },
  {
   "cell_type": "markdown",
   "metadata": {},
   "source": [
    "# Run scan\n"
   ]
  },
  {
   "cell_type": "code",
   "execution_count": 6,
   "metadata": {
    "scrolled": false
   },
   "outputs": [
    {
     "data": {
      "text/html": [
       "<b><hr /></b><h1>Report for 3329641a171508fa6b1ad7674b31431093d46be190d1a51acd77e486f42d9c8e:</h1>"
      ]
     },
     "metadata": {},
     "output_type": "display_data"
    },
    {
     "data": {
      "text/html": [
       "<b><hr /></b><h3>Computed hashes:</h3>"
      ]
     },
     "metadata": {},
     "output_type": "display_data"
    },
    {
     "data": {
      "text/html": [
       "<p><ul><li><b>md5</b> - 1720b1748ad7b8ac0bfc1c3636fead95</li><li><b>sha1</b> - 97bae63417df5bde4a05cd44c6c523db50f6ab76</li><li><b>sha256</b> - 3329641a171508fa6b1ad7674b31431093d46be190d1a51acd77e486f42d9c8e</li><li><b>imphash</b> - 87b1bf5d6ea7e7bea778583978f61b64</li><li><b>spamsum</b> - 12288:aKVWGHUsNNXxgAQWE9J4TyP5SqWiboPZnVXDsm:/UANB/Q7wqWicLXD</li><li><b>tlsh</b> - T11CD4D09C5380E270F4B405B3558C8FFDC9BAECA147461AAE13F253F1AA027837F5A956</li></ul></p>"
      ]
     },
     "metadata": {},
     "output_type": "display_data"
    },
    {
     "data": {
      "text/html": [
       "<b><hr /></b><h3>Malware Bazaar:</h3>"
      ]
     },
     "metadata": {},
     "output_type": "display_data"
    },
    {
     "data": {
      "text/html": [
       "<p><ul><li>There is no sample with matching sha256 on Malware Bazaar</li><li>There are no samples with matching imphash on Malware Bazaar</li><li>There are no samples with matching TLSH on Malware Bazaar</li></ul></p>"
      ]
     },
     "metadata": {},
     "output_type": "display_data"
    },
    {
     "data": {
      "text/html": [
       "<b><hr /></b><h3>Strings:</h3>"
      ]
     },
     "metadata": {},
     "output_type": "display_data"
    },
    {
     "data": {
      "text/html": [
       "\n",
       "        <p>\n",
       "            <details>\n",
       "                <summary>\n",
       "                    Click here to show all <b>213</b>\n",
       "                </summary>\n",
       "                <ul>\n",
       "                    <li>gefas.pdb</li><li>cryptdll.dll</li><li>cfgmgr32.dll</li><li>nciwave.dll</li><li>rsaenh.dll</li><li>cessh;AA</li><li>GetProcAddress</li><li>OpenProcess</li><li>GetModuleFileNameW</li><li>FindNextFileW</li><li>HeapCreate</li><li>LoadLibraryA</li><li>GetModuleHandleA</li><li>DllCanUnloadNow</li><li>FindFirstFileW</li><li>CreateFileMappingW</li><li>CreateNamedPipeA</li><li>CreateDirectoryA</li><li>I:++?sSl</li><li>GetClassLongA</li><li>6&quot;Nt9uuke</li><li>3yV67&lt;La[o</li><li>1-{Mhi,8</li><li>MH67:e-=</li><li>V%&#x27;Rof_O</li><li>+a/B^H9so</li><li>&amp;vIYl5CA</li><li>=&gt;?@ABCDE</li><li>(B|1V~$sYA</li><li>#oY2tFPl</li><li>ke$mn6a;</li><li>0,LNlOSM=</li><li>l?ISrvlA</li><li>WritePro____Memory</li><li>4V^|CYat</li><li>(.pL[osm</li><li>s&amp;^`bIcf</li><li>3456789:;</li><li>Mnulp32e</li><li>)*+,-./01</li><li>!2@&lt;Tsc]</li><li>CBJ}O~SyrC</li><li>YIt%:pLffF</li><li>InterlockedIncrement</li><li>uulkmabdgqks</li><li>SHCreateDirectoryExA</li><li>gr7shadtasghdj</li><li>GHIJKLMNO</li><li>!&quot;#$%&amp;&#x27;</li><li>opqrstuvw</li><li>nkmtktbe</li><li>efghijklm</li><li>oz3=;%f~&gt;T</li><li>%e,`mBVP</li><li>f3%0Eyjn</li><li>!This program cannot be run in DOS mode.</li><li>UrlHashA</li><li>CPDecrypt</li><li>%=@3.AU#</li><li>i;Q,PbomS5/?(</li><li>shell32.dll</li><li>Dc&lt;Vg4n/[7\\pC</li><li>q5Sy&quot;rp&#x27;{uG -</li><li>CM_Add_IDA</li><li>CM_Add_Range</li><li>GetLocalTime</li><li>clbcatq.dll</li><li>PathCompactPathW</li><li>UrlGetPartW</li><li>MD5Update</li><li>PathIsRootW</li><li>MD5Final</li><li>SetPriorityClass</li><li>DispatchMessageW</li><li>GetCommandLineW</li><li>UrlCombineA</li><li>UrlCompareW</li><li>PathCombineA</li><li>GlobalAddAtomA</li><li>shlwapi.dll</li><li>wsprintfA</li><li>SHBrowseForFolderW</li><li>UrlCreateFromPathW</li><li>UrlGetLocationA</li><li>DowngradeAPL</li><li>MessageBoxA</li><li>SetSetupSave</li><li>DialogBoxParamA</li><li>InsertMenuW</li><li>LoadIconA</li><li>IsCharLowerW</li><li>DrawStateW</li><li>LoadBitmapW</li><li>PostMessageW</li><li>PeekMessageW</li><li>CharToOemA</li><li>IsDialogMessageA</li><li>UrlIsNoHistoryW</li><li>FindClose</li><li>DragQueryFileA</li><li>CreateThread</li><li>CloseHandle</li><li>ExtractIconW</li><li>GetConsoleTitleA</li><li>UrlUnescapeW</li><li>DllGetVersion</li><li>CreateSemaphoreW</li><li>FormatMessageA</li><li>UrlEscapeW</li><li>CPDeriveKey</li><li>txd(Iy&quot;kb&#x27;</li><li>QRSTUVWXY</li><li>p[vOh^Kw</li><li>s+pm!h;!&#x27;</li><li>user32.dll</li><li>kernel32.dll</li><li>CMP_Report_LogOn</li><li>Shell_NotifyIconA</li><li>GetPrivateProfileStringA</li><li>CM_Add_Empty_Log_Conf</li><li>GetLogicalDriveStringsA</li><li>PathCommonPrefixW</li><li>SetEnvironmentVariableA</li><li>GetEnvironmentVariableW</li><li>FindResourceExA</li><li>SHEmptyRecycleBinA</li><li>WaitForSingleObject</li><li>SHGetFolderPathA</li><li>85rZroO@</li><li>T[&amp;#s^{E</li><li>)7/AUjp[</li><li>b_S9&quot;\\FU</li><li>[\\]^_`abc</li><li>?3biSx%yV=</li><li>7nN|t1[(</li><li>1XB7sngrB5@</li><li>uXZ&lt;&amp;Eing</li><li>;$_D9H`w</li><li>+1{;lkcf</li><li>6YKDwCd[</li><li>&amp;!!:cFT|</li><li>ggqfslmb</li><li>i{/5:&amp;vm{</li><li>$2?)a,aj</li><li>|Bi&lt;(u:iJ</li><li>*,;.]m&gt;O</li><li>Iv}jl&amp;C#?</li><li>&amp;Y#yjNd#u</li><li>NC~b8TZ3gb</li><li>&#x27;v@&#x27;8!sh;&quot;</li><li>&gt;t}y1&amp;(#</li><li>Y{7@:,r`</li><li>[=jR7n-!</li><li>&gt;&amp;g^_L8K</li><li>{!5Rw,bb</li><li>{[x*rt%]&lt;</li><li>%v&#x27;s((!</li><li>2l1\tC-5)~</li><li>7wP\\\t3lL7`1)x</li><li>GyV%B&quot;vf</li><li>]}~6\tN8G</li><li>h(Kx9Ucuy</li><li>GyaFz/AQ1</li><li>w3z%H7la</li><li>3,;e6Qf6q</li><li>5It/h?+Z</li><li>*(aXdK6-</li><li>a&amp;b)4Xpjw</li><li>Bpp/fEwj</li><li>$Zb}aD| .</li><li>H//K3bpY</li><li>o/LM@Zqz</li><li>L&lt;W&amp;QAHkZZ</li><li>{HYJ9KRx</li><li>q4--/MW@</li><li>X*|__j-f</li><li>0&quot;S}VpXX</li><li>zH?5&#x27;nKv</li><li>z^r ,KSkm</li><li>WzA~o1G6</li><li>o8|,2={</li><li>)o\\z\\x_?</li><li>Kk0e&#x27;({(</li><li>4.a}gQ6f+</li><li>_K)%~Yja</li><li>*&quot;f&#x27;Wq&quot;i</li><li>O`F?DKz:A&gt;</li><li>m&quot;Q-?]#zHI</li><li>w&amp;G*-hjmU9{</li><li>H,u&amp;lqk&#x27;</li><li>=E\t8AX#z</li><li>me;\t*Qq)</li><li>CXI;v\tX2G&quot;;y</li><li>So)jvyX;</li><li>y04X*Q5g</li><li>4?k&#x27;8^9hf</li><li>&#x27;+x`JN0R#]</li><li>&amp;tnQ[$~3P</li><li>*q``g:#/</li><li>J{b4[&#x27;%!</li><li>kV\tCNr8j</li><li>x^%k2&quot;xJK</li><li>xHw-${R7M,</li><li>sJ+ wOY{</li><li>&amp;V.f:=})</li><li>Byq(4}F&#x27;</li><li>G~hfz6+r</li><li>Lg}qF80[</li><li>hx&amp;G&lt;?Wt</li><li>W@[&lt;&lt;|\tpj</li><li>!8f@\tfSsJ</li><li>M&amp;`)Fb }i5Y.x</li><li></li>\n",
       "                </ul>\n",
       "            </details>\n",
       "        </p>\n",
       "        "
      ]
     },
     "metadata": {},
     "output_type": "display_data"
    },
    {
     "data": {
      "text/html": [
       "<b><hr /></b><h3>Matching Yara rules:</h3>"
      ]
     },
     "metadata": {},
     "output_type": "display_data"
    },
    {
     "data": {
      "text/html": [
       "<p><ul><li>base64.yar</li><li>ip.yar</li><li>packer_compiler_signatures.yar</li><li>capabilities.yar</li><li>domain.yar</li></ul></p>"
      ]
     },
     "metadata": {},
     "output_type": "display_data"
    },
    {
     "data": {
      "text/html": [
       "<b><hr /></b><h3>Packer/compiler detected by PEID:</h3>"
      ]
     },
     "metadata": {},
     "output_type": "display_data"
    },
    {
     "data": {
      "text/html": [
       "<p>Could not detect packer/compiler</p>"
      ]
     },
     "metadata": {},
     "output_type": "display_data"
    },
    {
     "data": {
      "text/html": [
       "<b><hr /></b><h3>Packers matched by PE section:</h3>"
      ]
     },
     "metadata": {},
     "output_type": "display_data"
    },
    {
     "data": {
      "text/html": [
       "<p><b>NONE</b></p>"
      ]
     },
     "metadata": {},
     "output_type": "display_data"
    },
    {
     "data": {
      "text/html": [
       "<b><hr /></b><h3>PE Imports:</h3>"
      ]
     },
     "metadata": {},
     "output_type": "display_data"
    },
    {
     "data": {
      "text/html": [
       "\n",
       "        <p>\n",
       "            <details>\n",
       "                <summary>\n",
       "                    Click here to show all <b>75</b>\n",
       "                </summary>\n",
       "                <ul>\n",
       "                    <li>WaitForSingleObject - <b>Injection</b> [<a href=https://google.com/search?q=WaitForSingleObject>Google</a>] [<a href=https://malapi.io/winapi/WaitForSingleObject>MalAPI</a>]<li>CreateThread - <b>Injection</b> [<a href=https://google.com/search?q=CreateThread>Google</a>] [<a href=https://malapi.io/winapi/CreateThread>MalAPI</a>]<li>OpenProcess - <b>Injection</b> [<a href=https://google.com/search?q=OpenProcess>Google</a>] [<a href=https://malapi.io/winapi/OpenProcess>MalAPI</a>]<li>GetProcAddress - <b>Injection</b> [<a href=https://google.com/search?q=GetProcAddress>Google</a>] [<a href=https://malapi.io/winapi/GetProcAddress>MalAPI</a>]<li>LoadLibraryA - <b>Injection</b> [<a href=https://google.com/search?q=LoadLibraryA>Google</a>] [<a href=https://malapi.io/winapi/LoadLibraryA>MalAPI</a>]<li>SetEnvironmentVariableA - <b>Evasion</b> [<a href=https://google.com/search?q=SetEnvironmentVariableA>Google</a>] [<a href=https://malapi.io/winapi/SetEnvironmentVariableA>MalAPI</a>]<li>GetModuleHandleA - <b>Injection</b> [<a href=https://google.com/search?q=GetModuleHandleA>Google</a>] [<a href=https://malapi.io/winapi/GetModuleHandleA>MalAPI</a>]<li>FindClose - <b>Helper</b> [<a href=https://google.com/search?q=FindClose>Google</a>] [<a href=https://malapi.io/winapi/FindClose>MalAPI</a>]<li>FindResourceExA - <b>Helper</b> [<a href=https://google.com/search?q=FindResourceExA>Google</a>] [<a href=https://malapi.io/winapi/FindResourceExA>MalAPI</a>]<li>DowngradeAPL [<a href=https://google.com/search?q=DowngradeAPL>Google</a>]</li><li>SetSetupSave [<a href=https://google.com/search?q=SetSetupSave>Google</a>]</li><li>CM_Add_Empty_Log_Conf [<a href=https://google.com/search?q=CM_Add_Empty_Log_Conf>Google</a>]</li><li>CMP_Report_LogOn [<a href=https://google.com/search?q=CMP_Report_LogOn>Google</a>]</li><li>CM_Add_IDA [<a href=https://google.com/search?q=CM_Add_IDA>Google</a>]</li><li>CM_Add_Range [<a href=https://google.com/search?q=CM_Add_Range>Google</a>]</li><li>wsprintfA [<a href=https://google.com/search?q=wsprintfA>Google</a>]</li><li>LoadBitmapW [<a href=https://google.com/search?q=LoadBitmapW>Google</a>]</li><li>IsDialogMessageA [<a href=https://google.com/search?q=IsDialogMessageA>Google</a>]</li><li>DispatchMessageW [<a href=https://google.com/search?q=DispatchMessageW>Google</a>]</li><li>PostMessageW [<a href=https://google.com/search?q=PostMessageW>Google</a>]</li><li>CharToOemA [<a href=https://google.com/search?q=CharToOemA>Google</a>]</li><li>LoadIconA [<a href=https://google.com/search?q=LoadIconA>Google</a>]</li><li>IsCharLowerW [<a href=https://google.com/search?q=IsCharLowerW>Google</a>]</li><li>DialogBoxParamA [<a href=https://google.com/search?q=DialogBoxParamA>Google</a>]</li><li>MessageBoxA [<a href=https://google.com/search?q=MessageBoxA>Google</a>]</li><li>GetClassLongA [<a href=https://google.com/search?q=GetClassLongA>Google</a>]</li><li>DrawStateW [<a href=https://google.com/search?q=DrawStateW>Google</a>]</li><li>PeekMessageW [<a href=https://google.com/search?q=PeekMessageW>Google</a>]</li><li>InsertMenuW [<a href=https://google.com/search?q=InsertMenuW>Google</a>]</li><li>MD5Update [<a href=https://google.com/search?q=MD5Update>Google</a>]</li><li>MD5Final [<a href=https://google.com/search?q=MD5Final>Google</a>]</li><li>GetCommandLineW [<a href=https://google.com/search?q=GetCommandLineW>Google</a>]</li><li>InterlockedIncrement [<a href=https://google.com/search?q=InterlockedIncrement>Google</a>]</li><li>CreateNamedPipeA [<a href=https://google.com/search?q=CreateNamedPipeA>Google</a>]</li><li>GetEnvironmentVariableW [<a href=https://google.com/search?q=GetEnvironmentVariableW>Google</a>]</li><li>GetLocalTime [<a href=https://google.com/search?q=GetLocalTime>Google</a>]</li><li>GetModuleFileNameW [<a href=https://google.com/search?q=GetModuleFileNameW>Google</a>]</li><li>GlobalAddAtomA [<a href=https://google.com/search?q=GlobalAddAtomA>Google</a>]</li><li>GetConsoleTitleA [<a href=https://google.com/search?q=GetConsoleTitleA>Google</a>]</li><li>SetPriorityClass [<a href=https://google.com/search?q=SetPriorityClass>Google</a>]</li><li>FindNextFileW [<a href=https://google.com/search?q=FindNextFileW>Google</a>]</li><li>CreateFileMappingW [<a href=https://google.com/search?q=CreateFileMappingW>Google</a>]</li><li>FindFirstFileW [<a href=https://google.com/search?q=FindFirstFileW>Google</a>]</li><li>FormatMessageA [<a href=https://google.com/search?q=FormatMessageA>Google</a>]</li><li>CloseHandle [<a href=https://google.com/search?q=CloseHandle>Google</a>]</li><li>GetLogicalDriveStringsA [<a href=https://google.com/search?q=GetLogicalDriveStringsA>Google</a>]</li><li>GetPrivateProfileStringA [<a href=https://google.com/search?q=GetPrivateProfileStringA>Google</a>]</li><li>CreateDirectoryA [<a href=https://google.com/search?q=CreateDirectoryA>Google</a>]</li><li>CreateSemaphoreW [<a href=https://google.com/search?q=CreateSemaphoreW>Google</a>]</li><li>UrlGetPartW [<a href=https://google.com/search?q=UrlGetPartW>Google</a>]</li><li>PathCompactPathW [<a href=https://google.com/search?q=PathCompactPathW>Google</a>]</li><li>UrlCreateFromPathW [<a href=https://google.com/search?q=UrlCreateFromPathW>Google</a>]</li><li>UrlCombineA [<a href=https://google.com/search?q=UrlCombineA>Google</a>]</li><li>UrlEscapeW [<a href=https://google.com/search?q=UrlEscapeW>Google</a>]</li><li>UrlCompareW [<a href=https://google.com/search?q=UrlCompareW>Google</a>]</li><li>UrlUnescapeW [<a href=https://google.com/search?q=UrlUnescapeW>Google</a>]</li><li>PathIsRootW [<a href=https://google.com/search?q=PathIsRootW>Google</a>]</li><li>UrlHashA [<a href=https://google.com/search?q=UrlHashA>Google</a>]</li><li>UrlIsNoHistoryW [<a href=https://google.com/search?q=UrlIsNoHistoryW>Google</a>]</li><li>UrlGetLocationA [<a href=https://google.com/search?q=UrlGetLocationA>Google</a>]</li><li>PathCommonPrefixW [<a href=https://google.com/search?q=PathCommonPrefixW>Google</a>]</li><li>UrlIsW [<a href=https://google.com/search?q=UrlIsW>Google</a>]</li><li>PathCombineA [<a href=https://google.com/search?q=PathCombineA>Google</a>]</li><li>CPDecrypt [<a href=https://google.com/search?q=CPDecrypt>Google</a>]</li><li>CPDeriveKey [<a href=https://google.com/search?q=CPDeriveKey>Google</a>]</li><li>Shell_NotifyIconA [<a href=https://google.com/search?q=Shell_NotifyIconA>Google</a>]</li><li>DllCanUnloadNow [<a href=https://google.com/search?q=DllCanUnloadNow>Google</a>]</li><li>DragQueryFileA [<a href=https://google.com/search?q=DragQueryFileA>Google</a>]</li><li>DllGetVersion [<a href=https://google.com/search?q=DllGetVersion>Google</a>]</li><li>SHBrowseForFolderW [<a href=https://google.com/search?q=SHBrowseForFolderW>Google</a>]</li><li>SHGetFolderPathA [<a href=https://google.com/search?q=SHGetFolderPathA>Google</a>]</li><li>StrChrA [<a href=https://google.com/search?q=StrChrA>Google</a>]</li><li>ExtractIconW [<a href=https://google.com/search?q=ExtractIconW>Google</a>]</li><li>SHEmptyRecycleBinA [<a href=https://google.com/search?q=SHEmptyRecycleBinA>Google</a>]</li><li>SHCreateDirectoryExA [<a href=https://google.com/search?q=SHCreateDirectoryExA>Google</a>]</li>\n",
       "                </ul>\n",
       "            </details>\n",
       "        </p>\n",
       "        "
      ]
     },
     "metadata": {},
     "output_type": "display_data"
    },
    {
     "data": {
      "text/html": [
       "<b><hr /></b><h1>Report for 773635768e738bec776dfd7504164b3596e5eee344757dd1ac9a1ad19b452c86:</h1>"
      ]
     },
     "metadata": {},
     "output_type": "display_data"
    },
    {
     "data": {
      "text/html": [
       "<b><hr /></b><h3>Computed hashes:</h3>"
      ]
     },
     "metadata": {},
     "output_type": "display_data"
    },
    {
     "data": {
      "text/html": [
       "<p><ul><li><b>md5</b> - c40a2f5f25157e6a434602017531d608</li><li><b>sha1</b> - 76c430b55f180a85f4e1a1e40e4a2ea37db97599</li><li><b>sha256</b> - 773635768e738bec776dfd7504164b3596e5eee344757dd1ac9a1ad19b452c86</li><li><b>imphash</b> - 5fedb616ea298a17c62e5ea31f9b8673</li><li><b>spamsum</b> - 3072:XRAlgTTEc6KQYuYCs39Ymf5Rdbz7hzZtBNOS/MVd07KS:XRpTEc6qYM1tXV</li><li><b>tlsh</b> - T190147D786DB74CB7CC024638EDDE5441E27E70208FB1669A522C1DB95D081AE1BE8F7D</li></ul></p>"
      ]
     },
     "metadata": {},
     "output_type": "display_data"
    },
    {
     "data": {
      "text/html": [
       "<b><hr /></b><h3>Malware Bazaar:</h3>"
      ]
     },
     "metadata": {},
     "output_type": "display_data"
    },
    {
     "data": {
      "text/html": [
       "<p><ul><li>There is no sample with matching sha256 on Malware Bazaar</li><li>There are no samples with matching imphash on Malware Bazaar</li><li>There are no samples with matching TLSH on Malware Bazaar</li></ul></p>"
      ]
     },
     "metadata": {},
     "output_type": "display_data"
    },
    {
     "data": {
      "text/html": [
       "<b><hr /></b><h3>Strings:</h3>"
      ]
     },
     "metadata": {},
     "output_type": "display_data"
    },
    {
     "data": {
      "text/html": [
       "\n",
       "        <p>\n",
       "            <details>\n",
       "                <summary>\n",
       "                    Click here to show all <b>238</b>\n",
       "                </summary>\n",
       "                <ul>\n",
       "                    <li>cYY%nYOg</li><li>fYY%nYOg</li><li>mscoree.dll</li><li>&lt;requestedPrivileges&gt;</li><li>- abort() has been called</li><li>GetProcAddress</li><li>ExitProcess</li><li>IsDebuggerPresent</li><li>TerminateProcess</li><li>VirtualAlloc</li><li>VirtualProtect</li><li>WriteFile</li><li>GetModuleFileNameW</li><li>HeapCreate</li><li>GetModuleFileNameA</li><li>QueryPerformanceCounter</li><li>LoadLibraryW</li><li>LoadLibraryA</li><li>FreeLibrary</li><li>GetModuleHandleW</li><li>GetTickCount</li><li>&lt;requestedExecutionLevel level=&quot;asInvoker&quot; uiAccess=&quot;false&quot;&gt;&lt;/requestedExecutionLevel&gt;</li><li>GetCPInfo</li><li>GetProcessHeap</li><li>@UATAUAVAWH</li><li>@SUVWATAUAVH</li><li>@SUWAVAWH</li><li>-hN5oYYNT3YY</li><li>Nv0YY-eM</li><li>-iNc0YY#f</li><li>-hN)lYYNH0YYa</li><li>oNUUYY#f</li><li>&lt;/assembly&gt;PAPADDINGXXPADDINGPADDINGXXPADDINGPADDINGXXPADDINGPADDINGXXPADDINGPADDINGXXPAD</li><li>oNDXYY-^#f</li><li>-mN(TYYN/|YYa</li><li>rQ:;rRichP:;r</li><li>-hNooYY#f</li><li>aNFHYY#f</li><li>-iNkSYY#f</li><li>WATAUAVAWH</li><li>UVWATAUH</li><li>-mN=SYY#f</li><li>|$ ATAUAVH</li><li>t$ WATAUH</li><li>-hNCWYY#f</li><li>WideCharToMultiByte</li><li>x ATAUAVH</li><li>Error protecting memory page</li><li>s\\HcL$HH</li><li>-mN-]YYN EYYa</li><li>&lt;security&gt;</li><li>&lt;/security&gt;</li><li>-nN%AYY/</li><li>XYY%nYOs</li><li></li><li>!This program cannot be run in DOS mode.</li><li>&lt;/requestedPrivileges&gt;</li><li>fgdebc`anolmjkhivwturspq~</li><li>&amp;&#x27;$%&quot;# !./,-*+()67452301&gt;?&lt;=:;89</li><li>&lt;/trustInfo&gt;</li><li>GetCurrentProcess</li><li>GetCurrentProcessId</li><li>CorExitProcess</li><li>GetCurrentThreadId</li><li>EnterCriticalSection</li><li>GetEnvironmentStringsW</li><li>FreeEnvironmentStringsW</li><li>GetCommandLineA</li><li>GetActiveWindow</li><li>LeaveCriticalSection</li><li>DeleteCriticalSection</li><li>GetLastError</li><li>SetLastError</li><li>HeapReAlloc</li><li>HeapAlloc</li><li>SetHandleCount</li><li>GetSystemTimeAsFileTime</li><li>IsBadReadPtr</li><li>FlsSetValue</li><li>RtlUnwindEx</li><li>GetStartupInfoW</li><li>FlsGetValue</li><li>IsValidCodePage</li><li>MessageBoxW</li><li>EncodePointer</li><li>RtlVirtualUnwind</li><li>GetVersion</li><li>HeapSetInformation</li><li>RtlCaptureContext</li><li>VirtualFree</li><li>DecodePointer</li><li>GetFileType</li><li>FlsAlloc</li><li>HeapSize</li><li>GetOEMCP</li><li>HeapFree</li><li>GetStdHandle</li><li>LCMapStringW</li><li>GetStringTypeW</li><li>September</li><li>Wednesday</li><li>November</li><li>December</li><li>Saturday</li><li>February</li><li>Thursday</li><li>!t$(H!t$ A</li><li>-hNeqYYN</li><li>&lt; tG&lt;\ttC</li><li>&amp;\t.\t6\t&gt;</li><li>Program:</li><li>USER32.DLL</li><li>DOMAIN error</li><li>TLOSS error</li><li>SING error</li><li>runtime error</li><li>- unexpected heap error</li><li>&lt;program name unknown&gt;</li><li>- unable to initialize heap</li><li>Runtime Error!</li><li>KERNEL32.dll</li><li>- CRT not initialized</li><li>HH:mm:ss</li><li>GetProcessWindowStation</li><li>InitializeCriticalSectionAndSpinCount</li><li>RtlLookupFunctionEntry</li><li>GetUserObjectInformationW</li><li>GetNativeSystemInfo</li><li>SetUnhandledExceptionFilter</li><li>GetLastActivePopup</li><li>MultiByteToWideChar</li><li>UnhandledExceptionFilter</li><li>|}z{xyFGDEBC@ANOLMJKHIVWTURSPQ^_\\]Z[XY&amp;&#x27;$%&quot;# !./,-*+()67452301&gt;?&lt;=:;89</li><li>|}z{xyFGDEBC@ANOLMJKHIVWTURSPQ^_\\]Z[XY</li><li>- Attempt to use MSIL code from this assembly during native code initialization</li><li>NfxYY6-iN</li><li>- not enough space for environment</li><li>- not enough space for locale information</li><li>-WNUkYY6</li><li>This indicates a bug in your application. It is most likely the result of calling an MSIL-compiled (/clr) function from a native constructor or from DllMain.</li><li>-iNfUYY%^X</li><li>Microsoft Visual C++ Runtime Library</li><li>[U!P:;rP:;rP:;r?L</li><li>-mNaXYY-^M</li><li>-r-iN}XYY</li><li>- pure virtual function call</li><li>- Attempt to initialize the CRT more than once.</li><li>- not enough space for arguments</li><li>-nNo7YY/</li><li>- unexpected multithread lock error</li><li>YYN4yYYa</li><li>YYYN&amp;&gt;YYa</li><li>rS:;rP::r</li><li>-mN#PYY#f</li><li>-mN\\BYYN?</li><li>- unable to open console device</li><li>-nN[gYY/</li><li>&amp;N?SYY#f</li><li>- not enough space for _onexit/atexit table</li><li>-pNOPYY-</li><li>YYYNbtYYa</li><li>- not enough space for thread data</li><li>- not enough space for lowio initialization</li><li>- floating point support not loaded</li><li>- not enough space for stdio initialization</li><li>NtzYY-N%C</li><li>NXTYY-N%C</li><li>This indicates a bug in your application.</li><li>-nNBgYY/</li><li>-lN,XYYM</li><li>PA^A]A\\_^][</li><li>MVN`_YY6</li><li>-^N&gt;!YY-&quot;</li><li>N!PYY-^#f</li><li>VN^GYY#f</li><li>-T-_N,\tYY</li><li>f\tn\tv\t~\tF\tN</li><li>O-IYYjjj</li><li>MM/dd/yy</li><li>-iN]zYY%^Y</li><li>-iNHzYY%^X</li><li>dddd, MMMM dd, yyyy</li><li>-iNJ\\YY6</li><li>&gt;OqPYYjj</li><li>IYYOFXYY%\\</li><li>NEJYY%^Y</li><li>%~Yejjjjjj</li><li>kYmN3YYY%</li><li>-mN:XYY-^</li><li>,kYmN#YYY%</li><li>-pN_XYY#Y</li><li>VNpqYY#f</li><li>-mNjZYYY</li><li>NbtYYj#Y</li><li>jYY-n%_Y</li><li>-lNQzYY&#x27;</li><li>qNdTYY-~</li><li>HUejjjjj</li><li>OPXYYjjj</li><li>OQGYYjjj</li><li>ABCDEFGHIJKLMNOPQRSTUVWXYZ</li><li>abcdefghijklmnopqrstuvwxyz</li><li>-gejjjjjjjjjj</li><li>f%~Yejjjjjjjjjjjjjjj</li><li>^ejjjjjjjjjjjjjj</li><li>YYYYYYYY&amp;</li><li>h((((                  H</li><li>(((((                  H</li><li>&lt;trustInfo xmlns=&quot;urn:schemas-microsoft-com:asm.v3&quot;&gt;</li><li>6ejjjjjj</li><li>ejjjjjjjjj</li><li>ejjjjjjjj</li><li>ZYYYuYYY</li><li>ejjjjjjjjjjj</li><li>ejjjjjjjjjjjj</li><li>ejjjjjjjjjjjjj</li><li>ejjjjjjjjjjjjjjj</li><li>ejjjjjjjjjjjjjjjj</li><li>fMljjjjjjjjjjjjjjjjj</li><li>ejjjjjjjjjjjjjjjjjjjj</li><li>YYYjjjjjjjjjjjjjjj</li><li>XYYYYYYY</li><li>YYYYYYYY</li><li>0A_A^A]A\\_</li><li>A_A^A]A\\_</li><li>A_A^A]A\\]</li><li>@A_A^A]A\\_</li><li>@A]A\\_^]</li><li>-iN2{YY%^X</li><li>A_A^_][</li><li>!&quot;#$%&amp;&#x27;()*+,-./0123456789:;&lt;=&gt;?@ABCDEFGHIJKLMNOPQRSTUVWXYZ[\\]^_`abcdefghijklmnopqrstuvwxyz{|}~</li><li>D$&amp;8\\$&amp;t-8X</li><li>-hN]XYY-~</li><li>-jNq[YYQ~</li><li>&lt;assembly xmlns=&quot;urn:schemas-microsoft-com:asm.v1&quot; manifestVersion=&quot;1.0&quot;&gt;</li><li>H</li><li>!&quot;#$%&amp;&#x27;()*+,-./0123456789:;&lt;=&gt;?@ABCDEFGHIJKLMNOPQRSTUVWXYZ[\\]^_`ABCDEFGHIJKLMNOPQRSTUVWXYZ{|}~</li><li>!&quot;#$%&amp;&#x27;()*+,-./0123456789:;&lt;=&gt;?@abcdefghijklmnopqrstuvwxyz[\\]^_`abcdefghijklmnopqrstuvwxyz{|}~</li>\n",
       "                </ul>\n",
       "            </details>\n",
       "        </p>\n",
       "        "
      ]
     },
     "metadata": {},
     "output_type": "display_data"
    },
    {
     "data": {
      "text/html": [
       "<b><hr /></b><h3>Matching Yara rules:</h3>"
      ]
     },
     "metadata": {},
     "output_type": "display_data"
    },
    {
     "data": {
      "text/html": [
       "<p><ul><li>base64.yar</li><li>ip.yar</li><li>antidebug_antivm.yar</li><li>packer_compiler_signatures.yar</li><li>suspicious_strings.yar</li><li>domain.yar</li><li>peid.yar</li></ul></p>"
      ]
     },
     "metadata": {},
     "output_type": "display_data"
    },
    {
     "data": {
      "text/html": [
       "<b><hr /></b><h3>Packer/compiler detected by PEID:</h3>"
      ]
     },
     "metadata": {},
     "output_type": "display_data"
    },
    {
     "data": {
      "text/html": [
       "<p>Microsoft Visual C++ 8.0 (DLL)</p>"
      ]
     },
     "metadata": {},
     "output_type": "display_data"
    },
    {
     "data": {
      "text/html": [
       "<b><hr /></b><h3>Packers matched by PE section:</h3>"
      ]
     },
     "metadata": {},
     "output_type": "display_data"
    },
    {
     "data": {
      "text/html": [
       "<p><b>NONE</b></p>"
      ]
     },
     "metadata": {},
     "output_type": "display_data"
    },
    {
     "data": {
      "text/html": [
       "<b><hr /></b><h3>PE Imports:</h3>"
      ]
     },
     "metadata": {},
     "output_type": "display_data"
    },
    {
     "data": {
      "text/html": [
       "\n",
       "        <p>\n",
       "            <details>\n",
       "                <summary>\n",
       "                    Click here to show all <b>64</b>\n",
       "                </summary>\n",
       "                <ul>\n",
       "                    <li>GetNativeSystemInfo - <b>Enumeration</b> [<a href=https://google.com/search?q=GetNativeSystemInfo>Google</a>] [<a href=https://malapi.io/winapi/GetNativeSystemInfo>MalAPI</a>]<li>HeapAlloc - <b>Injection</b> [<a href=https://google.com/search?q=HeapAlloc>Google</a>] [<a href=https://malapi.io/winapi/HeapAlloc>MalAPI</a>]<li>GetProcessHeap - <b>Injection</b> [<a href=https://google.com/search?q=GetProcessHeap>Google</a>] [<a href=https://malapi.io/winapi/GetProcessHeap>MalAPI</a>]<li>GetProcAddress - <b>Injection</b> [<a href=https://google.com/search?q=GetProcAddress>Google</a>] [<a href=https://malapi.io/winapi/GetProcAddress>MalAPI</a>]<li>VirtualAlloc - <b>Injection</b> [<a href=https://google.com/search?q=VirtualAlloc>Google</a>] [<a href=https://malapi.io/winapi/VirtualAlloc>MalAPI</a>]<li>LoadLibraryA - <b>Injection</b> [<a href=https://google.com/search?q=LoadLibraryA>Google</a>] [<a href=https://malapi.io/winapi/LoadLibraryA>MalAPI</a>]<li>VirtualProtect - <b>Injection</b> [<a href=https://google.com/search?q=VirtualProtect>Google</a>] [<a href=https://malapi.io/winapi/VirtualProtect>MalAPI</a>]<li>HeapReAlloc - <b>Injection</b> [<a href=https://google.com/search?q=HeapReAlloc>Google</a>] [<a href=https://malapi.io/winapi/HeapReAlloc>MalAPI</a>]<li>GetCurrentProcess - <b>Enumeration</b> [<a href=https://google.com/search?q=GetCurrentProcess>Google</a>] [<a href=https://malapi.io/winapi/GetCurrentProcess>MalAPI</a>]<li>IsDebuggerPresent - <b>Anti-Debugging</b> [<a href=https://google.com/search?q=IsDebuggerPresent>Google</a>] [<a href=https://malapi.io/winapi/IsDebuggerPresent>MalAPI</a>]<li>HeapCreate - <b>Injection</b> [<a href=https://google.com/search?q=HeapCreate>Google</a>] [<a href=https://malapi.io/winapi/HeapCreate>MalAPI</a>]<li>GetCurrentThreadId - <b>Enumeration</b> [<a href=https://google.com/search?q=GetCurrentThreadId>Google</a>] [<a href=https://malapi.io/winapi/GetCurrentThreadId>MalAPI</a>]<li>QueryPerformanceCounter - <b>Anti-Debugging</b> [<a href=https://google.com/search?q=QueryPerformanceCounter>Google</a>] [<a href=https://malapi.io/winapi/QueryPerformanceCounter>MalAPI</a>]<li>GetTickCount - <b>Anti-Debugging</b> [<a href=https://google.com/search?q=GetTickCount>Google</a>] [<a href=https://malapi.io/winapi/GetTickCount>MalAPI</a>]<li>GetCurrentProcessId - <b>Enumeration</b> [<a href=https://google.com/search?q=GetCurrentProcessId>Google</a>] [<a href=https://malapi.io/winapi/GetCurrentProcessId>MalAPI</a>]<li>GetSystemTimeAsFileTime - <b>Enumeration</b> [<a href=https://google.com/search?q=GetSystemTimeAsFileTime>Google</a>] [<a href=https://malapi.io/winapi/GetSystemTimeAsFileTime>MalAPI</a>]<li>Sleep - <b>Evasion</b> [<a href=https://google.com/search?q=Sleep>Google</a>] [<a href=https://malapi.io/winapi/Sleep>MalAPI</a>]<li>TerminateProcess - <b>Helper</b> [<a href=https://google.com/search?q=TerminateProcess>Google</a>] [<a href=https://malapi.io/winapi/TerminateProcess>MalAPI</a>]<li>WriteFile - <b>Helper</b> [<a href=https://google.com/search?q=WriteFile>Google</a>] [<a href=https://malapi.io/winapi/WriteFile>MalAPI</a>]<li>GetModuleFileNameA - <b>Helper</b> [<a href=https://google.com/search?q=GetModuleFileNameA>Google</a>] [<a href=https://malapi.io/winapi/GetModuleFileNameA>MalAPI</a>]<li>FreeLibrary [<a href=https://google.com/search?q=FreeLibrary>Google</a>]</li><li>HeapFree [<a href=https://google.com/search?q=HeapFree>Google</a>]</li><li>VirtualFree [<a href=https://google.com/search?q=VirtualFree>Google</a>]</li><li>IsBadReadPtr [<a href=https://google.com/search?q=IsBadReadPtr>Google</a>]</li><li>SetLastError [<a href=https://google.com/search?q=SetLastError>Google</a>]</li><li>GetLastError [<a href=https://google.com/search?q=GetLastError>Google</a>]</li><li>GetCommandLineA [<a href=https://google.com/search?q=GetCommandLineA>Google</a>]</li><li>UnhandledExceptionFilter [<a href=https://google.com/search?q=UnhandledExceptionFilter>Google</a>]</li><li>SetUnhandledExceptionFilter [<a href=https://google.com/search?q=SetUnhandledExceptionFilter>Google</a>]</li><li>RtlVirtualUnwind [<a href=https://google.com/search?q=RtlVirtualUnwind>Google</a>]</li><li>RtlLookupFunctionEntry [<a href=https://google.com/search?q=RtlLookupFunctionEntry>Google</a>]</li><li>RtlCaptureContext [<a href=https://google.com/search?q=RtlCaptureContext>Google</a>]</li><li>GetModuleHandleW [<a href=https://google.com/search?q=GetModuleHandleW>Google</a>]</li><li>ExitProcess [<a href=https://google.com/search?q=ExitProcess>Google</a>]</li><li>DecodePointer [<a href=https://google.com/search?q=DecodePointer>Google</a>]</li><li>GetStdHandle [<a href=https://google.com/search?q=GetStdHandle>Google</a>]</li><li>GetModuleFileNameW [<a href=https://google.com/search?q=GetModuleFileNameW>Google</a>]</li><li>HeapSetInformation [<a href=https://google.com/search?q=HeapSetInformation>Google</a>]</li><li>GetVersion [<a href=https://google.com/search?q=GetVersion>Google</a>]</li><li>EncodePointer [<a href=https://google.com/search?q=EncodePointer>Google</a>]</li><li>GetCPInfo [<a href=https://google.com/search?q=GetCPInfo>Google</a>]</li><li>GetACP [<a href=https://google.com/search?q=GetACP>Google</a>]</li><li>GetOEMCP [<a href=https://google.com/search?q=GetOEMCP>Google</a>]</li><li>IsValidCodePage [<a href=https://google.com/search?q=IsValidCodePage>Google</a>]</li><li>FlsGetValue [<a href=https://google.com/search?q=FlsGetValue>Google</a>]</li><li>FlsSetValue [<a href=https://google.com/search?q=FlsSetValue>Google</a>]</li><li>FlsFree [<a href=https://google.com/search?q=FlsFree>Google</a>]</li><li>FlsAlloc [<a href=https://google.com/search?q=FlsAlloc>Google</a>]</li><li>GetStringTypeW [<a href=https://google.com/search?q=GetStringTypeW>Google</a>]</li><li>RtlUnwindEx [<a href=https://google.com/search?q=RtlUnwindEx>Google</a>]</li><li>FreeEnvironmentStringsW [<a href=https://google.com/search?q=FreeEnvironmentStringsW>Google</a>]</li><li>WideCharToMultiByte [<a href=https://google.com/search?q=WideCharToMultiByte>Google</a>]</li><li>GetEnvironmentStringsW [<a href=https://google.com/search?q=GetEnvironmentStringsW>Google</a>]</li><li>SetHandleCount [<a href=https://google.com/search?q=SetHandleCount>Google</a>]</li><li>InitializeCriticalSectionAndSpinCount [<a href=https://google.com/search?q=InitializeCriticalSectionAndSpinCount>Google</a>]</li><li>GetFileType [<a href=https://google.com/search?q=GetFileType>Google</a>]</li><li>GetStartupInfoW [<a href=https://google.com/search?q=GetStartupInfoW>Google</a>]</li><li>DeleteCriticalSection [<a href=https://google.com/search?q=DeleteCriticalSection>Google</a>]</li><li>LeaveCriticalSection [<a href=https://google.com/search?q=LeaveCriticalSection>Google</a>]</li><li>EnterCriticalSection [<a href=https://google.com/search?q=EnterCriticalSection>Google</a>]</li><li>LoadLibraryW [<a href=https://google.com/search?q=LoadLibraryW>Google</a>]</li><li>LCMapStringW [<a href=https://google.com/search?q=LCMapStringW>Google</a>]</li><li>MultiByteToWideChar [<a href=https://google.com/search?q=MultiByteToWideChar>Google</a>]</li><li>HeapSize [<a href=https://google.com/search?q=HeapSize>Google</a>]</li>\n",
       "                </ul>\n",
       "            </details>\n",
       "        </p>\n",
       "        "
      ]
     },
     "metadata": {},
     "output_type": "display_data"
    },
    {
     "data": {
      "text/html": [
       "<b><hr /></b><h1>Report for 8dfaa1f579de14bca8bb27c54a57dd87646a835969766ca9ddb81ecd9329f4e4:</h1>"
      ]
     },
     "metadata": {},
     "output_type": "display_data"
    },
    {
     "data": {
      "text/html": [
       "<b><hr /></b><h3>Computed hashes:</h3>"
      ]
     },
     "metadata": {},
     "output_type": "display_data"
    },
    {
     "data": {
      "text/html": [
       "<p><ul><li><b>md5</b> - b162026b29d75a870543ad9c044c28c2</li><li><b>sha1</b> - bb2f5b573ac7a761015daad0b7ff03b294dc60f6</li><li><b>sha256</b> - 8dfaa1f579de14bca8bb27c54a57dd87646a835969766ca9ddb81ecd9329f4e4</li><li><b>imphash</b> - e1bdaca5ae3612e5218d48ece7f17014</li><li><b>spamsum</b> - 768:AQXumW2kil9wsiFDuQoJawrazeTMg/FKs+gbwORLNW:lXumcikg7ruFXyRL</li><li><b>tlsh</b> - T119136C117940D4B3C10A6535646EC7618BAFAC112BF560C77FBB07AE9F21AD0A63F34A</li></ul></p>"
      ]
     },
     "metadata": {},
     "output_type": "display_data"
    },
    {
     "data": {
      "text/html": [
       "<b><hr /></b><h3>Malware Bazaar:</h3>"
      ]
     },
     "metadata": {},
     "output_type": "display_data"
    },
    {
     "data": {
      "text/html": [
       "<p><ul><li><a href=\"https://bazaar.abuse.ch/sample/8dfaa1f579de14bca8bb27c54a57dd87646a835969766ca9ddb81ecd9329f4e4\">Sample page</a> on Malware Bazaar</li><li>These samples from Malware Bazaar had matching imphash:\n",
       "                    <ul>\n",
       "                        <li><a href=\"https://bazaar.abuse.ch/sample8dfaa1f579de14bca8bb27c54a57dd87646a835969766ca9ddb81ecd9329f4e4\">8dfaa1f579de14bca8bb27c54a57dd87646a835969766ca9ddb81ecd9329f4e4.bin</a></li>\n",
       "                    </ul>\n",
       "                   <li>There are no samples with matching TLSH on Malware Bazaar</li></ul></p>"
      ]
     },
     "metadata": {},
     "output_type": "display_data"
    },
    {
     "data": {
      "text/html": [
       "<b><hr /></b><h3>Strings:</h3>"
      ]
     },
     "metadata": {},
     "output_type": "display_data"
    },
    {
     "data": {
      "text/html": [
       "\n",
       "        <p>\n",
       "            <details>\n",
       "                <summary>\n",
       "                    Click here to show all <b>175</b>\n",
       "                </summary>\n",
       "                <ul>\n",
       "                    <li>K7UI.dll</li><li>MpSvc.dll</li><li>mscoree.dll</li><li>&lt;requestedPrivileges&gt;</li><li>GetProcAddress</li><li>ExitProcess</li><li>IsDebuggerPresent</li><li>TerminateProcess</li><li>VirtualAlloc</li><li>VirtualProtect</li><li>LoadLibraryA</li><li>QueryPerformanceCounter</li><li>WriteFile</li><li>GetModuleHandleW</li><li>HeapCreate</li><li>GetModuleHandleA</li><li>GetModuleFileNameA</li><li>CreateFileA</li><li>ReadFile</li><li>GetTickCount</li><li>&lt;requestedExecutionLevel level=&quot;asInvoker&quot; uiAccess=&quot;false&quot;&gt;&lt;/requestedExecutionLevel&gt;</li><li>GetCPInfo</li><li>1=1D1H1L1P1T1X1\\1`1</li><li>3$3,343&lt;3D3L3T3\\3</li><li>&lt;/assembly&gt;PAPADDINGXXPADDINGPADDINGXXPADDINGPADDINGXXPADDINGPADDINGXXPADDINGPADDINGXXPAD</li><li>9$:(:0:4:8:&lt;:@:D:H:L:P:T:X:\\:`:d:h:l:p:t:x:|:</li><li>;&#x27;;,;0;4;];</li><li>===D=H=L=P=T=X=\\=`=</li><li>InterlockedIncrement</li><li>InterlockedDecrement</li><li>WideCharToMultiByte</li><li>&lt;security&gt;</li><li>&lt;/security&gt;</li><li></li><li>!This program cannot be run in DOS mode.</li><li>&lt;/requestedPrivileges&gt;</li><li>An application has made an attempt to load the C runtime library incorrectly.</li><li>This application has requested the Runtime to terminate it in an unusual way.</li><li>Please contact the application&#x27;s support team for more information.</li><li>&lt;/trustInfo&gt;</li><li>GetCurrentProcess</li><li>GetCurrentProcessId</li><li>GetLocaleInfoA</li><li>CorExitProcess</li><li>GetCurrentThreadId</li><li>EnterCriticalSection</li><li>FreeEnvironmentStringsA</li><li>GetEnvironmentStrings</li><li>FreeEnvironmentStringsW</li><li>GetEnvironmentStringsW</li><li>GetCommandLineA</li><li>GetActiveWindow</li><li>DeleteCriticalSection</li><li>LeaveCriticalSection</li><li>HeapDestroy</li><li>GetLastError</li><li>SetLastError</li><li>HeapReAlloc</li><li>HeapAlloc</li><li>6&amp;6 7*7B7I7S7[7h7o7</li><li>DecodePointer</li><li>GetFileType</li><li>SetHandleCount</li><li>GetFileSize</li><li>CloseHandle</li><li>TlsSetValue</li><li>TlsGetValue</li><li>FlsSetValue</li><li>VirtualFree</li><li>EncodePointer</li><li>GetStartupInfoA</li><li>GetSystemTimeAsFileTime</li><li>FlsGetValue</li><li>GetStringTypeA</li><li>MessageBoxA</li><li>IsValidCodePage</li><li>FlsAlloc</li><li>TlsAlloc</li><li>HeapFree</li><li>HeapSize</li><li>GetOEMCP</li><li>LCMapStringA</li><li>GetStdHandle</li><li>=$=6=I=T=Z=`=e=n=</li><li>GetStringTypeW</li><li>LCMapStringW</li><li>RtlUnwind</li><li>Wednesday</li><li>September</li><li>November</li><li>Saturday</li><li>December</li><li>February</li><li>Thursday</li><li>6\t6 696U6^6d6m6r6</li><li>7&quot;8*8=8H8M8]8g8n8y8</li><li>?&#x27;?,?0?4?]?</li><li>Program:</li><li>USER32.DLL</li><li>bad allocation</li><li>DOMAIN error</li><li>TLOSS error</li><li>SING error</li><li>runtime error</li><li>- unexpected heap error</li><li>&lt;program name unknown&gt;</li><li>KERNEL32.DLL</li><li>- unable to initialize heap</li><li>Runtime Error!</li><li>KERNEL32.dll</li><li>- CRT not initialized</li><li>JanFebMarAprMayJunJulAugSepOctNovDec</li><li>HH:mm:ss</li><li>GetProcessWindowStation</li><li>SunMonTueWedThuFriSat</li><li>InitializeCriticalSectionAndSpinCount</li><li>GetUserObjectInformationA</li><li>SetUnhandledExceptionFilter</li><li>GetLastActivePopup</li><li>MultiByteToWideChar</li><li>UnhandledExceptionFilter</li><li>- Attempt to use MSIL code from this assembly during native code initialization</li><li>9$93989B9P9</li><li>- not enough space for environment</li><li>- not enough space for locale information</li><li>869C9m9r9}9</li><li>This indicates a bug in your application. It is most likely the result of calling an MSIL-compiled (/clr) function from a native constructor or from DllMain.</li><li>5(5H5d5h5</li><li>Microsoft Visual C++ Runtime Library</li><li>- pure virtual function call</li><li>- Attempt to initialize the CRT more than once.</li><li>- not enough space for arguments</li><li>- unexpected multithread lock error</li><li>- unable to open console device</li><li>- not enough space for _onexit/atexit table</li><li>- not enough space for thread data</li><li>- not enough space for lowio initialization</li><li>- floating point support not loaded</li><li>- not enough space for stdio initialization</li><li>This indicates a bug in your application.</li><li>PPPPPPPP</li><li>9-&lt;4&lt;:&lt;v&lt;;=e=</li><li>=*=1=I=U=[=g=v=|=</li><li>:1;7;P;V;&amp;&lt;I&lt;V&lt;b&lt;j&lt;r&lt;~&lt;</li><li>4$4(4D4H4h4</li><li>9&lt;9C9\\9p9v9</li><li>&lt;,&lt;9&lt;b&lt;h&lt;s&lt;</li><li>3&quot;3.3G3[3|3</li><li>&lt; tK&lt;\ttG</li><li>9,:E:T:Y:z:</li><li>23393J3`3r3</li><li>MM/dd/yy</li><li>dddd, MMMM dd, yyyy</li><li>252e2p2x2</li><li>1&amp;1,141;1@1H1Q1]1b1g1m1q1w1|1</li><li>9K:k:y:~:</li><li>383T3X3x3</li><li>ABCDEFGHIJKLMNOPQRSTUVWXYZ</li><li>abcdefghijklmnopqrstuvwxyz</li><li>(((((                  H</li><li>h((((                  H</li><li>&lt;trustInfo xmlns=&quot;urn:schemas-microsoft-com:asm.v3&quot;&gt;</li><li>868;8I8Q8]8d8m8</li><li>7&#x27;7/777C7L7Q7W7a7j7u7</li><li>9*9A9M9Z9a9</li><li>6F6Q6_6d6i6n6~6</li><li>=!&gt;*&gt;?&gt;o&gt;</li><li>7L7Q7X7]7d7i7</li><li>!&quot;#$%&amp;&#x27;()*+,-./0123456789:;&lt;=&gt;?@ABCDEFGHIJKLMNOPQRSTUVWXYZ[\\]^_`abcdefghijklmnopqrstuvwxyz{|}~</li><li>UQPXY]Y[</li><li>&gt;1&gt;B&gt;H&gt;Y&gt;</li><li>&lt;assembly xmlns=&quot;urn:schemas-microsoft-com:asm.v1&quot; manifestVersion=&quot;1.0&quot;&gt;</li><li>H</li><li>!&quot;#$%&amp;&#x27;()*+,-./0123456789:;&lt;=&gt;?@ABCDEFGHIJKLMNOPQRSTUVWXYZ[\\]^_`ABCDEFGHIJKLMNOPQRSTUVWXYZ{|}~</li><li>!&quot;#$%&amp;&#x27;()*+,-./0123456789:;&lt;=&gt;?@abcdefghijklmnopqrstuvwxyz[\\]^_`abcdefghijklmnopqrstuvwxyz{|}~</li>\n",
       "                </ul>\n",
       "            </details>\n",
       "        </p>\n",
       "        "
      ]
     },
     "metadata": {},
     "output_type": "display_data"
    },
    {
     "data": {
      "text/html": [
       "<b><hr /></b><h3>Matching Yara rules:</h3>"
      ]
     },
     "metadata": {},
     "output_type": "display_data"
    },
    {
     "data": {
      "text/html": [
       "<p><ul><li>base64.yar</li><li>antidebug_antivm.yar</li><li>packer_compiler_signatures.yar</li><li>capabilities.yar</li><li>domain.yar</li><li>peid.yar</li></ul></p>"
      ]
     },
     "metadata": {},
     "output_type": "display_data"
    },
    {
     "data": {
      "text/html": [
       "<b><hr /></b><h3>Packer/compiler detected by PEID:</h3>"
      ]
     },
     "metadata": {},
     "output_type": "display_data"
    },
    {
     "data": {
      "text/html": [
       "<p>Visual C++ 2005 DLL -> Microsoft</p>"
      ]
     },
     "metadata": {},
     "output_type": "display_data"
    },
    {
     "data": {
      "text/html": [
       "<b><hr /></b><h3>Packers matched by PE section:</h3>"
      ]
     },
     "metadata": {},
     "output_type": "display_data"
    },
    {
     "data": {
      "text/html": [
       "<p><b>NONE</b></p>"
      ]
     },
     "metadata": {},
     "output_type": "display_data"
    },
    {
     "data": {
      "text/html": [
       "<b><hr /></b><h3>PE Imports:</h3>"
      ]
     },
     "metadata": {},
     "output_type": "display_data"
    },
    {
     "data": {
      "text/html": [
       "\n",
       "        <p>\n",
       "            <details>\n",
       "                <summary>\n",
       "                    Click here to show all <b>64</b>\n",
       "                </summary>\n",
       "                <ul>\n",
       "                    <li>ReadFile - <b>Enumeration</b> [<a href=https://google.com/search?q=ReadFile>Google</a>] [<a href=https://malapi.io/winapi/ReadFile>MalAPI</a>]<li>VirtualAlloc - <b>Injection</b> [<a href=https://google.com/search?q=VirtualAlloc>Google</a>] [<a href=https://malapi.io/winapi/VirtualAlloc>MalAPI</a>]<li>GetModuleHandleA - <b>Injection</b> [<a href=https://google.com/search?q=GetModuleHandleA>Google</a>] [<a href=https://malapi.io/winapi/GetModuleHandleA>MalAPI</a>]<li>VirtualProtect - <b>Injection</b> [<a href=https://google.com/search?q=VirtualProtect>Google</a>] [<a href=https://malapi.io/winapi/VirtualProtect>MalAPI</a>]<li>HeapAlloc - <b>Injection</b> [<a href=https://google.com/search?q=HeapAlloc>Google</a>] [<a href=https://malapi.io/winapi/HeapAlloc>MalAPI</a>]<li>GetCurrentThreadId - <b>Enumeration</b> [<a href=https://google.com/search?q=GetCurrentThreadId>Google</a>] [<a href=https://malapi.io/winapi/GetCurrentThreadId>MalAPI</a>]<li>GetCurrentProcess - <b>Enumeration</b> [<a href=https://google.com/search?q=GetCurrentProcess>Google</a>] [<a href=https://malapi.io/winapi/GetCurrentProcess>MalAPI</a>]<li>IsDebuggerPresent - <b>Anti-Debugging</b> [<a href=https://google.com/search?q=IsDebuggerPresent>Google</a>] [<a href=https://malapi.io/winapi/IsDebuggerPresent>MalAPI</a>]<li>HeapCreate - <b>Injection</b> [<a href=https://google.com/search?q=HeapCreate>Google</a>] [<a href=https://malapi.io/winapi/HeapCreate>MalAPI</a>]<li>HeapReAlloc - <b>Injection</b> [<a href=https://google.com/search?q=HeapReAlloc>Google</a>] [<a href=https://malapi.io/winapi/HeapReAlloc>MalAPI</a>]<li>Sleep - <b>Evasion</b> [<a href=https://google.com/search?q=Sleep>Google</a>] [<a href=https://malapi.io/winapi/Sleep>MalAPI</a>]<li>GetProcAddress - <b>Injection</b> [<a href=https://google.com/search?q=GetProcAddress>Google</a>] [<a href=https://malapi.io/winapi/GetProcAddress>MalAPI</a>]<li>QueryPerformanceCounter - <b>Anti-Debugging</b> [<a href=https://google.com/search?q=QueryPerformanceCounter>Google</a>] [<a href=https://malapi.io/winapi/QueryPerformanceCounter>MalAPI</a>]<li>GetTickCount - <b>Anti-Debugging</b> [<a href=https://google.com/search?q=GetTickCount>Google</a>] [<a href=https://malapi.io/winapi/GetTickCount>MalAPI</a>]<li>GetCurrentProcessId - <b>Enumeration</b> [<a href=https://google.com/search?q=GetCurrentProcessId>Google</a>] [<a href=https://malapi.io/winapi/GetCurrentProcessId>MalAPI</a>]<li>GetSystemTimeAsFileTime - <b>Enumeration</b> [<a href=https://google.com/search?q=GetSystemTimeAsFileTime>Google</a>] [<a href=https://malapi.io/winapi/GetSystemTimeAsFileTime>MalAPI</a>]<li>LoadLibraryA - <b>Injection</b> [<a href=https://google.com/search?q=LoadLibraryA>Google</a>] [<a href=https://malapi.io/winapi/LoadLibraryA>MalAPI</a>]<li>CreateFileA - <b>Helper</b> [<a href=https://google.com/search?q=CreateFileA>Google</a>] [<a href=https://malapi.io/winapi/CreateFileA>MalAPI</a>]<li>GetModuleFileNameA - <b>Helper</b> [<a href=https://google.com/search?q=GetModuleFileNameA>Google</a>] [<a href=https://malapi.io/winapi/GetModuleFileNameA>MalAPI</a>]<li>TerminateProcess - <b>Helper</b> [<a href=https://google.com/search?q=TerminateProcess>Google</a>] [<a href=https://malapi.io/winapi/TerminateProcess>MalAPI</a>]<li>WriteFile - <b>Helper</b> [<a href=https://google.com/search?q=WriteFile>Google</a>] [<a href=https://malapi.io/winapi/WriteFile>MalAPI</a>]<li>ExitProcess [<a href=https://google.com/search?q=ExitProcess>Google</a>]</li><li>GetFileSize [<a href=https://google.com/search?q=GetFileSize>Google</a>]</li><li>CloseHandle [<a href=https://google.com/search?q=CloseHandle>Google</a>]</li><li>GetLastError [<a href=https://google.com/search?q=GetLastError>Google</a>]</li><li>HeapFree [<a href=https://google.com/search?q=HeapFree>Google</a>]</li><li>GetCommandLineA [<a href=https://google.com/search?q=GetCommandLineA>Google</a>]</li><li>UnhandledExceptionFilter [<a href=https://google.com/search?q=UnhandledExceptionFilter>Google</a>]</li><li>SetUnhandledExceptionFilter [<a href=https://google.com/search?q=SetUnhandledExceptionFilter>Google</a>]</li><li>HeapDestroy [<a href=https://google.com/search?q=HeapDestroy>Google</a>]</li><li>VirtualFree [<a href=https://google.com/search?q=VirtualFree>Google</a>]</li><li>DeleteCriticalSection [<a href=https://google.com/search?q=DeleteCriticalSection>Google</a>]</li><li>LeaveCriticalSection [<a href=https://google.com/search?q=LeaveCriticalSection>Google</a>]</li><li>EnterCriticalSection [<a href=https://google.com/search?q=EnterCriticalSection>Google</a>]</li><li>GetModuleHandleW [<a href=https://google.com/search?q=GetModuleHandleW>Google</a>]</li><li>GetStdHandle [<a href=https://google.com/search?q=GetStdHandle>Google</a>]</li><li>TlsGetValue [<a href=https://google.com/search?q=TlsGetValue>Google</a>]</li><li>TlsAlloc [<a href=https://google.com/search?q=TlsAlloc>Google</a>]</li><li>TlsSetValue [<a href=https://google.com/search?q=TlsSetValue>Google</a>]</li><li>TlsFree [<a href=https://google.com/search?q=TlsFree>Google</a>]</li><li>InterlockedIncrement [<a href=https://google.com/search?q=InterlockedIncrement>Google</a>]</li><li>SetLastError [<a href=https://google.com/search?q=SetLastError>Google</a>]</li><li>InterlockedDecrement [<a href=https://google.com/search?q=InterlockedDecrement>Google</a>]</li><li>SetHandleCount [<a href=https://google.com/search?q=SetHandleCount>Google</a>]</li><li>GetFileType [<a href=https://google.com/search?q=GetFileType>Google</a>]</li><li>GetStartupInfoA [<a href=https://google.com/search?q=GetStartupInfoA>Google</a>]</li><li>FreeEnvironmentStringsA [<a href=https://google.com/search?q=FreeEnvironmentStringsA>Google</a>]</li><li>GetEnvironmentStrings [<a href=https://google.com/search?q=GetEnvironmentStrings>Google</a>]</li><li>FreeEnvironmentStringsW [<a href=https://google.com/search?q=FreeEnvironmentStringsW>Google</a>]</li><li>WideCharToMultiByte [<a href=https://google.com/search?q=WideCharToMultiByte>Google</a>]</li><li>GetEnvironmentStringsW [<a href=https://google.com/search?q=GetEnvironmentStringsW>Google</a>]</li><li>InitializeCriticalSectionAndSpinCount [<a href=https://google.com/search?q=InitializeCriticalSectionAndSpinCount>Google</a>]</li><li>RtlUnwind [<a href=https://google.com/search?q=RtlUnwind>Google</a>]</li><li>GetCPInfo [<a href=https://google.com/search?q=GetCPInfo>Google</a>]</li><li>GetACP [<a href=https://google.com/search?q=GetACP>Google</a>]</li><li>GetOEMCP [<a href=https://google.com/search?q=GetOEMCP>Google</a>]</li><li>IsValidCodePage [<a href=https://google.com/search?q=IsValidCodePage>Google</a>]</li><li>HeapSize [<a href=https://google.com/search?q=HeapSize>Google</a>]</li><li>GetLocaleInfoA [<a href=https://google.com/search?q=GetLocaleInfoA>Google</a>]</li><li>GetStringTypeA [<a href=https://google.com/search?q=GetStringTypeA>Google</a>]</li><li>MultiByteToWideChar [<a href=https://google.com/search?q=MultiByteToWideChar>Google</a>]</li><li>GetStringTypeW [<a href=https://google.com/search?q=GetStringTypeW>Google</a>]</li><li>LCMapStringA [<a href=https://google.com/search?q=LCMapStringA>Google</a>]</li><li>LCMapStringW [<a href=https://google.com/search?q=LCMapStringW>Google</a>]</li>\n",
       "                </ul>\n",
       "            </details>\n",
       "        </p>\n",
       "        "
      ]
     },
     "metadata": {},
     "output_type": "display_data"
    },
    {
     "data": {
      "text/html": [
       "<b><hr /></b><h1>Report for 222d68c03d96d230bc3829e86be8821f32960375b70388028a705a4986b8d9c6:</h1>"
      ]
     },
     "metadata": {},
     "output_type": "display_data"
    },
    {
     "data": {
      "text/html": [
       "<b><hr /></b><h3>Computed hashes:</h3>"
      ]
     },
     "metadata": {},
     "output_type": "display_data"
    },
    {
     "data": {
      "text/html": [
       "<p><ul><li><b>md5</b> - fdf677939cb36c29a6b4b139fad5acde</li><li><b>sha1</b> - e2b0851e2e281cc7bca3d6d9b2fa0c4b7ac5a02b</li><li><b>sha256</b> - 222d68c03d96d230bc3829e86be8821f32960375b70388028a705a4986b8d9c6</li><li><b>imphash</b> - d9f07f0fdf79397030d430c94461ff26</li><li><b>spamsum</b> - 1536:Px16kv00WeRnAqsZCf/gHUsEuqI7eZUXdsWewcdLjEX+v/d:PK1peRnApCf/gouqIKWexLjEuv/d</li><li><b>tlsh</b> - T1A073494073E2D471E57E09355570E5B19F7EB921CEE08D2B2B5A066E4F302C0AE36E7A</li></ul></p>"
      ]
     },
     "metadata": {},
     "output_type": "display_data"
    },
    {
     "data": {
      "text/html": [
       "<b><hr /></b><h3>Malware Bazaar:</h3>"
      ]
     },
     "metadata": {},
     "output_type": "display_data"
    },
    {
     "data": {
      "text/html": [
       "<p><ul><li><a href=\"https://bazaar.abuse.ch/sample/222d68c03d96d230bc3829e86be8821f32960375b70388028a705a4986b8d9c6\">Sample page</a> on Malware Bazaar</li><li>These samples from Malware Bazaar had matching imphash:\n",
       "                    <ul>\n",
       "                        <li><a href=\"https://bazaar.abuse.ch/sample222d68c03d96d230bc3829e86be8821f32960375b70388028a705a4986b8d9c6\">222d68c03d96d230bc3829e86be8821f32960375b70388028a705a4986b8d9c6.bin</a></li>\n",
       "                    </ul>\n",
       "                   <li>There are no samples with matching TLSH on Malware Bazaar</li></ul></p>"
      ]
     },
     "metadata": {},
     "output_type": "display_data"
    },
    {
     "data": {
      "text/html": [
       "<b><hr /></b><h3>Strings:</h3>"
      ]
     },
     "metadata": {},
     "output_type": "display_data"
    },
    {
     "data": {
      "text/html": [
       "\n",
       "        <p>\n",
       "            <details>\n",
       "                <summary>\n",
       "                    Click here to show all <b>291</b>\n",
       "                </summary>\n",
       "                <ul>\n",
       "                    <li>K7UI.dll</li><li>operator &quot;&quot;</li><li>mscoree.dll</li><li>&lt;requestedPrivileges&gt;</li><li>IsProcessorFeaturePresent</li><li>GetProcAddress</li><li>ExitProcess</li><li>IsDebuggerPresent</li><li>TerminateProcess</li><li>VirtualAlloc</li><li>VirtualProtect</li><li>GetModuleHandleW</li><li>QueryPerformanceCounter</li><li>FreeLibrary</li><li>LoadLibraryExW</li><li>FindFirstFileExW</li><li>FindNextFileW</li><li>LoadLibraryA</li><li>WriteFile</li><li>CreateFileW</li><li>CreateFileA</li><li>GetModuleHandleA</li><li>GetModuleFileNameW</li><li>GetModuleFileNameA</li><li>ReadFile</li><li>api-ms-win-security-systemfunctions-l1-1-0</li><li>&lt;requestedExecutionLevel level=&#x27;asInvoker&#x27; uiAccess=&#x27;false&#x27; /&gt;</li><li>GetCPInfo</li><li>GetProcessHeap</li><li>192^3c3i3n3</li><li>0!1&lt;1A1F1a1n1w1|1</li><li>;&lt;&lt;E&lt;N&lt;W&lt;</li><li>__swift_2</li><li>__swift_1</li><li>api-ms-win-core-file-l1-2-2</li><li>api-ms-win-core-fibers-l1-1-1</li><li>api-ms-win-core-winrt-l1-1-0</li><li>_nextafter</li><li>__vectorcall</li><li>`anonymous namespace&#x27;</li><li>restrict(</li><li>2$2,242&lt;2D2L2T2\\2d2l2t2|2</li><li>1$1,141&lt;1D1L1T1\\1d1l1t1|1</li><li>3$3,343&lt;3D3L3T3\\3d3l3t3|3</li><li>0$0,040&lt;0D0L0T0\\0d0l0t0|0</li><li>operator co_await</li><li>=8=?=D=H=L=P=</li><li>sr-ba-latn</li><li>bs-ba-latn</li><li>:1&gt;1B1F1L:T:\\:d:l:t:|:</li><li>sr-sp-latn</li><li>operator&lt;=&gt;</li><li>sr-ba-cyrl</li><li>delete[]</li><li>&lt;/assembly&gt;</li><li>`string&#x27;</li><li>sr-sp-cyrl</li><li>ineIGenu</li><li>7 7(70787@7</li><li>WideCharToMultiByte</li><li>&lt;security&gt;</li><li>&lt;/security&gt;</li><li></li><li>!This program cannot be run in DOS mode.</li><li>api-ms-win-core-localization-obsolete-l1-2-0</li><li>api-ms-win-core-localization-l1-2-1</li><li>api-ms-win-rtcore-ntuser-window-l1-1-0</li><li>api-ms-win-core-processthreads-l1-1-2</li><li>ext-ms-win-ntuser-windowstation-l1-1-0</li><li>api-ms-win-core-datetime-l1-1-1</li><li>api-ms-win-core-sysinfo-l1-2-1</li><li>&lt;?xml version=&#x27;1.0&#x27; encoding=&#x27;UTF-8&#x27; standalone=&#x27;yes&#x27;?&gt;</li><li>api-ms-win-core-xstate-l2-1-0</li><li>api-ms-win-core-string-l1-1-0</li><li>ext-ms-win-ntuser-dialogbox-l1-1-0</li><li>api-ms-win-core-synch-l1-2-0</li><li>api-ms-win-appmodel-runtime-l1-1-2</li><li>`local static thread guard&#x27;</li><li>`placement delete[] closure&#x27;</li><li>AppPolicyGetProcessTerminationMethod</li><li>`vector deleting destructor&#x27;</li><li>`placement delete closure&#x27;</li><li>&lt;/requestedPrivileges&gt;</li><li>`eh vector vbase constructor iterator&#x27;</li><li>&lt;/trustInfo&gt;</li><li>sr-BA-Latn</li><li>bs-BA-Latn</li><li>sr-SP-Latn</li><li>GetCurrentProcess</li><li>GetCurrentProcessId</li><li>sr-BA-Cyrl</li><li>LocaleNameToLCID</li><li>CorExitProcess</li><li>GetCurrentThreadId</li><li>InitializeCriticalSectionEx</li><li>sr-SP-Cyrl</li><li>EnterCriticalSection</li><li>FreeEnvironmentStringsW</li><li>GetEnvironmentStringsW</li><li>GetCommandLineA</li><li>GetCommandLineW</li><li>8&quot;9+969=9]9c9i9o9u9{9</li><li>LeaveCriticalSection</li><li>DeleteCriticalSection</li><li>GetLastError</li><li>SetLastError</li><li>HeapReAlloc</li><li>HeapAlloc</li><li>VirtualFree</li><li>TlsGetValue</li><li>WriteConsoleW</li><li>SetFilePointerEx</li><li>TlsSetValue</li><li>GetConsoleMode</li><li>DecodePointer</li><li>GetFileType</li><li>GetConsoleCP</li><li>FlushFileBuffers</li><li>GetStartupInfoW</li><li>FlsGetValue</li><li>InitializeSListHead</li><li>IsValidCodePage</li><li>FindClose</li><li>RaiseException</li><li>GetSystemTimeAsFileTime</li><li>AreFileApisANSI</li><li>FlsSetValue</li><li>GetFileSize</li><li>CloseHandle</li><li>FlsAlloc</li><li>TlsAlloc</li><li>GetOEMCP</li><li>HeapSize</li><li>HeapFree</li><li>SetStdHandle</li><li>GetStdHandle</li><li>LCMapStringW</li><li>GetStringTypeW</li><li>RtlUnwind</li><li>September</li><li>Wednesday</li><li>Saturday</li><li>November</li><li>December</li><li>February</li><li>Thursday</li><li>@4D4H4L4P4T4X4\\4`4d4h4l4p4t4x4|4</li><li>5 5$5(5,5054585&lt;5@5D5H5L5P5T5X5\\5`5d5h5l5p5t5x5|5</li><li>&gt;(?,?0?4?8?&lt;?@?D?H?L?P?T?X?\\?`?d?h?l?p?t?</li><li>5$5(5,505</li><li>5$5,545&lt;5D5L5T5\\5d5l5t5|5</li><li>4$4,444&lt;4D4L4T4\\4d4l4t4|4</li><li>6*6F6T6`6l6</li><li>?$?,?4?&lt;?D?L?T?\\?d?l?t?|?</li><li>= =$=(=,=4=8=&lt;=@=D=H=L=P=\\=d=l=p=t=x=|=</li><li>`local vftable&#x27;</li><li>__thiscall</li><li>`vftable&#x27;</li><li>__stdcall</li><li>__clrcall</li><li>__fastcall</li><li>operator</li><li>.idata$2</li><li>.idata$3</li><li>.idata$5</li><li>.idata$6</li><li>.idata$4</li><li>__based(</li><li>`typeof&#x27;</li><li>__pascal</li><li>`vector constructor iterator&#x27;</li><li>`vector destructor iterator&#x27;</li><li>`copy constructor closure&#x27;</li><li>.rdata$sxdata</li><li>__restrict</li><li>`vbtable&#x27;</li><li>.CRT$XIA</li><li>__unaligned</li><li>Type Descriptor&#x27;</li><li>`eh vector constructor iterator&#x27;</li><li>`eh vector destructor iterator&#x27;</li><li>`vector copy constructor iterator&#x27;</li><li>.rtc$TAA</li><li>.rtc$IAA</li><li>`omni callsig&#x27;</li><li>.CRT$XIC</li><li>.CRT$XTA</li><li>.CRT$XCA</li><li>.CRT$XPA</li><li>`udt returning&#x27;</li><li>.rsrc$02</li><li>.rsrc$01</li><li>.text$mn</li><li>KERNEL32.dll</li><li>Base Class Array&#x27;</li><li>advapi32</li><li>kernel32</li><li>HH:mm:ss</li><li>InitializeCriticalSectionAndSpinCount</li><li>InterlockedFlushSList</li><li>SetUnhandledExceptionFilter</li><li>MultiByteToWideChar</li><li>GetModuleHandleExW</li><li>UnhandledExceptionFilter</li><li>LCMapStringEx</li><li>4&quot;404&gt;4I4_4s4</li><li>4)575D5O5l5q5</li><li>`local vftable constructor closure&#x27;</li><li>`virtual displacement map&#x27;</li><li>0)0-03070=0A0K0^0g0</li><li>Complete Object Locator&#x27;</li><li>:(:1:P:_:h:u:</li><li>8K9L:\\:m:u:</li><li>`vbase destructor&#x27;</li><li>`vector vbase constructor iterator&#x27;</li><li>`scalar deleting destructor&#x27;</li><li>8(878B8G8L8g8v8</li><li>`local static guard&#x27;</li><li>az-az-latn</li><li>uz-uz-latn</li><li>`default constructor closure&#x27;</li><li>(181&lt;1@1L1P1T1t1x1|1</li><li>Class Hierarchy Descriptor&#x27;</li><li>7(7,7074787&lt;7@7D7</li><li>696F6g6l6</li><li>PP9E u:PPVWP</li><li>`eh vector vbase copy constructor iterator&#x27;</li><li>`managed vector destructor iterator&#x27;</li><li>`vector vbase copy constructor iterator&#x27;</li><li>`managed vector copy constructor iterator&#x27;</li><li>`managed vector constructor iterator&#x27;</li><li>Base Class Descriptor at (</li><li>`dynamic initializer for &#x27;</li><li>`dynamic atexit destructor for &#x27;</li><li>`eh vector copy constructor iterator&#x27;</li><li>PPPPPPPP</li><li>2I2Q2Y2a2i2</li><li>5E6Q6n7u7</li><li>uz-UZ-Latn</li><li>az-AZ-Latn</li><li>=6&gt;;&gt;@&gt;E&gt;Y&gt;</li><li>=,=3=9=K=U=</li><li>1&gt;1G1P1^1g1</li><li>&lt;2&lt;G&lt;W&lt;d&lt;</li><li>&lt;&quot;&lt;1&lt;;&lt;H&lt;R&lt;b&lt;</li><li>&gt;^&gt;L?V?c?</li><li>.xdata$x</li><li>091S1X1&gt;3X3g3u3</li><li>2+20252V2f2</li><li>2 2(20282@2H2P2X2`2h2p2x2</li><li>4 4(40484@4H4P4X4`4h4p4x4</li><li>1 1(10181@1H1P1X1`1h1p1x1</li><li>(00080@0H0P0X0`0h0p0x0</li><li>MM/dd/yy</li><li>dddd, MMMM dd, yyyy</li><li>8.8V8d8j8</li><li>az-az-cyrl</li><li>uz-uz-cyrl</li><li>QQSVj8j@</li><li>=+=&lt;=F=h=y=</li><li>04080X0x0</li><li>ABCDEFGHIJKLMNOPQRSTUVWXYZ</li><li>abcdefghijklmnopqrstuvwxyz</li><li>(((((                  H</li><li>&lt;trustInfo xmlns=&quot;urn:schemas-microsoft-com:asm.v3&quot;&gt;</li><li>&lt;assembly xmlns=&#x27;urn:schemas-microsoft-com:asm.v1&#x27; manifestVersion=&#x27;1.0&#x27;&gt;</li><li>7%777I7[7|7</li><li>6)7A7Q7e7j7o7</li><li>9&amp;:+:=:[:o:u:</li><li>?0?D?I?\\?q?</li><li>5 5(50585@5H5P5X5`5h5p5x5</li><li>3 3(30383@3H3P3X3`3h3p3x3</li><li>9+979S9s9</li><li>6 6(60686@6H6P6X6`6h6p6x6</li><li>4*404&gt;4L4_4{4</li><li>UQPXY]Y[</li><li>;Q;`;l;{;</li><li>&lt; t3&lt;\tt/</li><li>az-AZ-Cyrl</li><li>uz-UZ-Cyrl</li><li>.rdata$zzzdbg</li><li>.CRT$XPXA</li><li>.CRT$XIZ</li><li>.rtc$IZZ</li><li>.CRT$XPZ</li><li>.CRT$XTZ</li><li>.CRT$XPX</li><li>.rtc$TZZ</li><li>.CRT$XCZ</li><li>!&quot;#$%&amp;&#x27;()*+,-./0123456789:;&lt;=&gt;?@ABCDEFGHIJKLMNOPQRSTUVWXYZ[\\]^_`ABCDEFGHIJKLMNOPQRSTUVWXYZ{|}~</li><li>!&quot;#$%&amp;&#x27;()*+,-./0123456789:;&lt;=&gt;?@abcdefghijklmnopqrstuvwxyz[\\]^_`abcdefghijklmnopqrstuvwxyz{|}~</li>\n",
       "                </ul>\n",
       "            </details>\n",
       "        </p>\n",
       "        "
      ]
     },
     "metadata": {},
     "output_type": "display_data"
    },
    {
     "data": {
      "text/html": [
       "<b><hr /></b><h3>Matching Yara rules:</h3>"
      ]
     },
     "metadata": {},
     "output_type": "display_data"
    },
    {
     "data": {
      "text/html": [
       "<p><ul><li>base64.yar</li><li>maldoc_somerules.yar</li><li>antidebug_antivm.yar</li><li>packer_compiler_signatures.yar</li><li>capabilities.yar</li><li>domain.yar</li><li>peid.yar</li></ul></p>"
      ]
     },
     "metadata": {},
     "output_type": "display_data"
    },
    {
     "data": {
      "text/html": [
       "<b><hr /></b><h3>Packer/compiler detected by PEID:</h3>"
      ]
     },
     "metadata": {},
     "output_type": "display_data"
    },
    {
     "data": {
      "text/html": [
       "<p>Borland Delphi 3.0 (???)</p>"
      ]
     },
     "metadata": {},
     "output_type": "display_data"
    },
    {
     "data": {
      "text/html": [
       "<b><hr /></b><h3>Packers matched by PE section:</h3>"
      ]
     },
     "metadata": {},
     "output_type": "display_data"
    },
    {
     "data": {
      "text/html": [
       "<p><b>NONE</b></p>"
      ]
     },
     "metadata": {},
     "output_type": "display_data"
    },
    {
     "data": {
      "text/html": [
       "<b><hr /></b><h3>PE Imports:</h3>"
      ]
     },
     "metadata": {},
     "output_type": "display_data"
    },
    {
     "data": {
      "text/html": [
       "\n",
       "        <p>\n",
       "            <details>\n",
       "                <summary>\n",
       "                    Click here to show all <b>73</b>\n",
       "                </summary>\n",
       "                <ul>\n",
       "                    <li>ReadFile - <b>Enumeration</b> [<a href=https://google.com/search?q=ReadFile>Google</a>] [<a href=https://malapi.io/winapi/ReadFile>MalAPI</a>]<li>VirtualProtect - <b>Injection</b> [<a href=https://google.com/search?q=VirtualProtect>Google</a>] [<a href=https://malapi.io/winapi/VirtualProtect>MalAPI</a>]<li>VirtualAlloc - <b>Injection</b> [<a href=https://google.com/search?q=VirtualAlloc>Google</a>] [<a href=https://malapi.io/winapi/VirtualAlloc>MalAPI</a>]<li>GetModuleHandleA - <b>Injection</b> [<a href=https://google.com/search?q=GetModuleHandleA>Google</a>] [<a href=https://malapi.io/winapi/GetModuleHandleA>MalAPI</a>]<li>LoadLibraryA - <b>Injection</b> [<a href=https://google.com/search?q=LoadLibraryA>Google</a>] [<a href=https://malapi.io/winapi/LoadLibraryA>MalAPI</a>]<li>GetProcAddress - <b>Injection</b> [<a href=https://google.com/search?q=GetProcAddress>Google</a>] [<a href=https://malapi.io/winapi/GetProcAddress>MalAPI</a>]<li>GetCurrentProcess - <b>Enumeration</b> [<a href=https://google.com/search?q=GetCurrentProcess>Google</a>] [<a href=https://malapi.io/winapi/GetCurrentProcess>MalAPI</a>]<li>QueryPerformanceCounter - <b>Anti-Debugging</b> [<a href=https://google.com/search?q=QueryPerformanceCounter>Google</a>] [<a href=https://malapi.io/winapi/QueryPerformanceCounter>MalAPI</a>]<li>GetCurrentProcessId - <b>Enumeration</b> [<a href=https://google.com/search?q=GetCurrentProcessId>Google</a>] [<a href=https://malapi.io/winapi/GetCurrentProcessId>MalAPI</a>]<li>GetCurrentThreadId - <b>Enumeration</b> [<a href=https://google.com/search?q=GetCurrentThreadId>Google</a>] [<a href=https://malapi.io/winapi/GetCurrentThreadId>MalAPI</a>]<li>GetSystemTimeAsFileTime - <b>Enumeration</b> [<a href=https://google.com/search?q=GetSystemTimeAsFileTime>Google</a>] [<a href=https://malapi.io/winapi/GetSystemTimeAsFileTime>MalAPI</a>]<li>IsDebuggerPresent - <b>Anti-Debugging</b> [<a href=https://google.com/search?q=IsDebuggerPresent>Google</a>] [<a href=https://malapi.io/winapi/IsDebuggerPresent>MalAPI</a>]<li>HeapAlloc - <b>Injection</b> [<a href=https://google.com/search?q=HeapAlloc>Google</a>] [<a href=https://malapi.io/winapi/HeapAlloc>MalAPI</a>]<li>GetProcessHeap - <b>Injection</b> [<a href=https://google.com/search?q=GetProcessHeap>Google</a>] [<a href=https://malapi.io/winapi/GetProcessHeap>MalAPI</a>]<li>HeapReAlloc - <b>Injection</b> [<a href=https://google.com/search?q=HeapReAlloc>Google</a>] [<a href=https://malapi.io/winapi/HeapReAlloc>MalAPI</a>]<li>GetModuleFileNameA - <b>Helper</b> [<a href=https://google.com/search?q=GetModuleFileNameA>Google</a>] [<a href=https://malapi.io/winapi/GetModuleFileNameA>MalAPI</a>]<li>CreateFileA - <b>Helper</b> [<a href=https://google.com/search?q=CreateFileA>Google</a>] [<a href=https://malapi.io/winapi/CreateFileA>MalAPI</a>]<li>TerminateProcess - <b>Helper</b> [<a href=https://google.com/search?q=TerminateProcess>Google</a>] [<a href=https://malapi.io/winapi/TerminateProcess>MalAPI</a>]<li>FindClose - <b>Helper</b> [<a href=https://google.com/search?q=FindClose>Google</a>] [<a href=https://malapi.io/winapi/FindClose>MalAPI</a>]<li>WriteFile - <b>Helper</b> [<a href=https://google.com/search?q=WriteFile>Google</a>] [<a href=https://malapi.io/winapi/WriteFile>MalAPI</a>]<li>VirtualFree [<a href=https://google.com/search?q=VirtualFree>Google</a>]</li><li>CloseHandle [<a href=https://google.com/search?q=CloseHandle>Google</a>]</li><li>GetFileSize [<a href=https://google.com/search?q=GetFileSize>Google</a>]</li><li>ExitProcess [<a href=https://google.com/search?q=ExitProcess>Google</a>]</li><li>WriteConsoleW [<a href=https://google.com/search?q=WriteConsoleW>Google</a>]</li><li>UnhandledExceptionFilter [<a href=https://google.com/search?q=UnhandledExceptionFilter>Google</a>]</li><li>SetUnhandledExceptionFilter [<a href=https://google.com/search?q=SetUnhandledExceptionFilter>Google</a>]</li><li>IsProcessorFeaturePresent [<a href=https://google.com/search?q=IsProcessorFeaturePresent>Google</a>]</li><li>InitializeSListHead [<a href=https://google.com/search?q=InitializeSListHead>Google</a>]</li><li>GetStartupInfoW [<a href=https://google.com/search?q=GetStartupInfoW>Google</a>]</li><li>GetModuleHandleW [<a href=https://google.com/search?q=GetModuleHandleW>Google</a>]</li><li>InterlockedFlushSList [<a href=https://google.com/search?q=InterlockedFlushSList>Google</a>]</li><li>RtlUnwind [<a href=https://google.com/search?q=RtlUnwind>Google</a>]</li><li>GetLastError [<a href=https://google.com/search?q=GetLastError>Google</a>]</li><li>SetLastError [<a href=https://google.com/search?q=SetLastError>Google</a>]</li><li>EnterCriticalSection [<a href=https://google.com/search?q=EnterCriticalSection>Google</a>]</li><li>LeaveCriticalSection [<a href=https://google.com/search?q=LeaveCriticalSection>Google</a>]</li><li>DeleteCriticalSection [<a href=https://google.com/search?q=DeleteCriticalSection>Google</a>]</li><li>InitializeCriticalSectionAndSpinCount [<a href=https://google.com/search?q=InitializeCriticalSectionAndSpinCount>Google</a>]</li><li>TlsAlloc [<a href=https://google.com/search?q=TlsAlloc>Google</a>]</li><li>TlsGetValue [<a href=https://google.com/search?q=TlsGetValue>Google</a>]</li><li>TlsSetValue [<a href=https://google.com/search?q=TlsSetValue>Google</a>]</li><li>TlsFree [<a href=https://google.com/search?q=TlsFree>Google</a>]</li><li>FreeLibrary [<a href=https://google.com/search?q=FreeLibrary>Google</a>]</li><li>LoadLibraryExW [<a href=https://google.com/search?q=LoadLibraryExW>Google</a>]</li><li>RaiseException [<a href=https://google.com/search?q=RaiseException>Google</a>]</li><li>GetModuleHandleExW [<a href=https://google.com/search?q=GetModuleHandleExW>Google</a>]</li><li>GetModuleFileNameW [<a href=https://google.com/search?q=GetModuleFileNameW>Google</a>]</li><li>HeapFree [<a href=https://google.com/search?q=HeapFree>Google</a>]</li><li>FindFirstFileExW [<a href=https://google.com/search?q=FindFirstFileExW>Google</a>]</li><li>FindNextFileW [<a href=https://google.com/search?q=FindNextFileW>Google</a>]</li><li>IsValidCodePage [<a href=https://google.com/search?q=IsValidCodePage>Google</a>]</li><li>GetACP [<a href=https://google.com/search?q=GetACP>Google</a>]</li><li>GetOEMCP [<a href=https://google.com/search?q=GetOEMCP>Google</a>]</li><li>GetCPInfo [<a href=https://google.com/search?q=GetCPInfo>Google</a>]</li><li>GetCommandLineA [<a href=https://google.com/search?q=GetCommandLineA>Google</a>]</li><li>GetCommandLineW [<a href=https://google.com/search?q=GetCommandLineW>Google</a>]</li><li>MultiByteToWideChar [<a href=https://google.com/search?q=MultiByteToWideChar>Google</a>]</li><li>WideCharToMultiByte [<a href=https://google.com/search?q=WideCharToMultiByte>Google</a>]</li><li>GetEnvironmentStringsW [<a href=https://google.com/search?q=GetEnvironmentStringsW>Google</a>]</li><li>FreeEnvironmentStringsW [<a href=https://google.com/search?q=FreeEnvironmentStringsW>Google</a>]</li><li>LCMapStringW [<a href=https://google.com/search?q=LCMapStringW>Google</a>]</li><li>GetStdHandle [<a href=https://google.com/search?q=GetStdHandle>Google</a>]</li><li>GetFileType [<a href=https://google.com/search?q=GetFileType>Google</a>]</li><li>GetStringTypeW [<a href=https://google.com/search?q=GetStringTypeW>Google</a>]</li><li>HeapSize [<a href=https://google.com/search?q=HeapSize>Google</a>]</li><li>SetStdHandle [<a href=https://google.com/search?q=SetStdHandle>Google</a>]</li><li>FlushFileBuffers [<a href=https://google.com/search?q=FlushFileBuffers>Google</a>]</li><li>GetConsoleCP [<a href=https://google.com/search?q=GetConsoleCP>Google</a>]</li><li>GetConsoleMode [<a href=https://google.com/search?q=GetConsoleMode>Google</a>]</li><li>SetFilePointerEx [<a href=https://google.com/search?q=SetFilePointerEx>Google</a>]</li><li>CreateFileW [<a href=https://google.com/search?q=CreateFileW>Google</a>]</li><li>DecodePointer [<a href=https://google.com/search?q=DecodePointer>Google</a>]</li>\n",
       "                </ul>\n",
       "            </details>\n",
       "        </p>\n",
       "        "
      ]
     },
     "metadata": {},
     "output_type": "display_data"
    },
    {
     "data": {
      "text/html": [
       "<b><hr /></b><h1>Report for 1215584b4fa69130799f6cf5efe467f380dc68b14ed2c76f63ca6b461ad57246:</h1>"
      ]
     },
     "metadata": {},
     "output_type": "display_data"
    },
    {
     "data": {
      "text/html": [
       "<b><hr /></b><h3>Computed hashes:</h3>"
      ]
     },
     "metadata": {},
     "output_type": "display_data"
    },
    {
     "data": {
      "text/html": [
       "<p><ul><li><b>md5</b> - f44b04364b2b33a84adc172f337aa1d1</li><li><b>sha1</b> - c36ecd2e0f38294e1290f4b9b36f602167e33614</li><li><b>sha256</b> - 1215584b4fa69130799f6cf5efe467f380dc68b14ed2c76f63ca6b461ad57246</li><li><b>imphash</b> - 6fe0f7652d95f3044c4112efd44b98c5</li><li><b>spamsum</b> - 1536:y27jXa3+lDdyw6jzx/8e8aZkYOkbPQmtEq+EJAIuIeu5/S/42c:BLa3ou3x/rt+EFiu5/CVc</li><li><b>tlsh</b> - T1EEA38D217590C0B2C48614328951C6B29FB9FE321FB5DD877BA83B6E5F312C1D72A297</li></ul></p>"
      ]
     },
     "metadata": {},
     "output_type": "display_data"
    },
    {
     "data": {
      "text/html": [
       "<b><hr /></b><h3>Malware Bazaar:</h3>"
      ]
     },
     "metadata": {},
     "output_type": "display_data"
    },
    {
     "data": {
      "text/html": [
       "<p><ul><li>There is no sample with matching sha256 on Malware Bazaar</li><li>There are no samples with matching imphash on Malware Bazaar</li><li>There are no samples with matching TLSH on Malware Bazaar</li></ul></p>"
      ]
     },
     "metadata": {},
     "output_type": "display_data"
    },
    {
     "data": {
      "text/html": [
       "<b><hr /></b><h3>Strings:</h3>"
      ]
     },
     "metadata": {},
     "output_type": "display_data"
    },
    {
     "data": {
      "text/html": [
       "\n",
       "        <p>\n",
       "            <details>\n",
       "                <summary>\n",
       "                    Click here to show all <b>415</b>\n",
       "                </summary>\n",
       "                <ul>\n",
       "                    <li>0http://crl.verisign.com/ThawteTimestampingCA.crl0</li><li>/http://csc3-2010-aia.verisign.com/CSC3-2010.cer0</li><li>2Terms of use at https://www.verisign.com/rpa (c)101.0,</li><li>/http://csc3-2010-crl.verisign.com/CSC3-2010.crl0D</li><li>#http://logo.verisign.com/vslogo.gif04</li><li>#http://crl.verisign.com/pca3-g5.crl04</li><li>&quot;http://crl.verisign.com/tss-ca.crl0</li><li>https://www.verisign.com/cps0*<ul><li>http</li></ul></li><li>https://www.verisign.com/rpa0<ul><li>http</li></ul></li><li>tGHt.Ht&amp;</li><li>Software\\K7 Computing\\K7TotalSecurity</li><li>Software\\K7 Computing\\K7TotalSecurity\\CommonInfo</li><li>Software\\K7 Computing\\K7TotalSecurity\\CommonInfo\\LogHandlers</li><li>COMCTL32.dll</li><li>RICHED20.dll</li><li>ekernel32.dll</li><li>K7UI.dll</li><li>K7CmnRes.dll</li><li>&lt;assembly xmlns=&quot;urn:schemas-microsoft-com:asm.v1&quot; manifestVersion=&quot;1.0&quot;&gt;&lt;assemblyIdentity version=&quot;1.0.0.0&quot; processorArchitecture=&quot;X86&quot; name=&quot;K7Computing.K7TotalSecurity.K7TSVLog&quot; type=&quot;win32&quot;&gt;&lt;/assemblyIdentity&gt;&lt;description&gt;K7TotalSecurity 2006.&lt;/description&gt;&lt;dependency&gt;&lt;dependentAssembly&gt;&lt;assemblyIdentity type=&quot;win32&quot; name=&quot;Microsoft.Windows.Common-Controls&quot; version=&quot;6.0.0.0&quot; processorArchitecture=&quot;X86&quot; publicKeyToken=&quot;6595b64144ccf1df&quot; language=&quot;*&quot;&gt;&lt;/assemblyIdentity&gt;&lt;/dependentAssembly&gt;&lt;/dependency&gt;&lt;trustInfo xmlns=&quot;urn:schemas-microsoft-com:asm.v3&quot;&gt;&lt;security&gt;&lt;requestedPrivileges&gt;&lt;requestedExecutionLevel level=&quot;asInvoker&quot; uiAccess=&quot;false&quot;&gt;&lt;/requestedExecutionLevel&gt;&lt;/requestedPrivileges&gt;&lt;/security&gt;&lt;/trustInfo&gt;&lt;/assembly&gt;PAPADDINGXXPADDINGPADDINGXXPADDINGPADDINGXXPADDINGPADDINGXXPADDINGPADDINGXXPADDINGPADDINGXXPADDINGPADDINGXXPADDINGPADDINGXXPADDINGPADDINGXXPADDINGPADDINGXXPADDINGPADDINGXXPADDINGPADDINGXXPADDINGPADDINGXXPADDINGPADDINGXXPADDINGPADDINGXXPADDINGPADDINGXXPADDINGPADDINGXXPADDINGPADDINGXXPADDINGPADDINGXXPADDINGPADDINGXXPADDINGPADDINGXXPADDINGPADDINGXXPADDINGPADDINGXXPADDINGPADDINGXXPADDINGPADD`</li><li>K7TSVlog.exe</li><li>AntiVirus</li><li>http://ocsp.verisign.com0<ul><li>http</li></ul></li><li>http://ocsp.verisign.com0;<ul><li>http</li></ul></li><li>FFMWH_%s</li><li>NoRemove AppID</li><li>NoRemove CLSID</li><li>NoRemove</li><li>HKEY_CLASSES_ROOT</li><li>SOFTWARE\\K7 Computing</li><li>HKEY_LOCAL_MACHINE</li><li>Product :  %s</li><li>Category :  %s</li><li>mscoree.dll</li><li>Created by MIDL version 7.00.0500 at Sat Nov 05 17:11:01 2011</li><li>@REGISTRY</li><li>Selection Changed Handle:%x Parent=%x</li><li>IsProcessorFeaturePresent</li><li>Security1</li><li>GetProcAddress</li><li>ExitProcess</li><li>HKEY_CURRENT_USER</li><li>SECURITY</li><li>Hardware</li><li>RegServer</li><li>UnregServer</li><li>IsDebuggerPresent</li><li>REGISTRY</li><li>OpenProcessToken</li><li>TerminateProcess</li><li>Interface</li><li>VirtualAlloc</li><li>CoCreateInstance</li><li>MapViewOfFile</li><li>VirtualProtect</li><li>RegOpenKeyExA</li><li>RegCreateKeyExA</li><li>LoadLibraryExA</li><li>RegSetValueExA</li><li>RegDeleteValueA</li><li>WriteFile</li><li>HeapCreate</li><li>LoadResource</li><li>FreeLibrary</li><li>RegDeleteKeyA</li><li>QueryPerformanceCounter</li><li>GetModuleHandleW</li><li>RegQueryValueExA</li><li>RegEnumKeyExA</li><li>RegDeleteKeyExA</li><li>LoadLibraryA</li><li>CreateFileMappingA</li><li>GetModuleHandleA</li><li>CreateFileA</li><li>SetFilePointer</li><li>GetModuleFileNameA</li><li>ReadFile</li><li>HKEY_DYN_DATA</li><li>HKEY_USERS</li><li>GetTickCount</li><li>%#PROD#%</li><li>GetConsoleOutputCP</li><li>RSSSSSSh</li><li>LocalServer32 = s &#x27;%MODULE%&#x27;</li><li>GetCPInfo</li><li>GetProcessHeap</li><li>image/gif0!0</li><li>t6Ht,Ht&quot;Ht</li><li>K7TotalSecurity Log View Manager</li><li>K7Security Suite of Products</li><li>&lt;at9&lt;rt,&lt;wt</li><li>Module_Raw</li><li>{\tSoftware</li><li>/classid=</li><li>Software</li><li>Component Categories</li><li>K7LOGVIEWERLibWW</li><li>K7LogViewer</li><li>TamilNadu1</li><li>delete[]</li><li>Chennai1</li><li>CompanyName</li><li>ProductName</li><li>InterlockedIncrement</li><li>InterlockedDecrement</li><li>ResFileSpec</li><li>Products</li><li>`string&#x27;</li><li>ForceRemove</li><li>FileDescription</li><li>dwColorScheme</li><li>StringFileInfo</li><li>VarFileInfo</li><li>FileVersion</li><li>OriginalFilename</li><li>Translation</li><li>FileType</li><li>Column :</li><li>szClassId</li><li>12, 0, 0, 0</li><li>12, 0, 1, 6</li><li>WideCharToMultiByte</li><li>Western Cape1</li><li>HKEY_CURRENT_CONFIG</li><li>Classes</li><li>HKEY_PERFORMANCE_DATA</li><li>%d,%x,%d,%d,%lu,%lu</li><li></li><li>!This program cannot be run in DOS mode.</li><li>ForceRemove {241F9722-B855-11D7-B0FE-00C026A19B93} = s &#x27;K7PELogViewer1 Class&#x27;</li><li>VS_VERSION_INFO</li><li>K7LogViewer 1.0 Type LibraryWW</li><li>{4B88C262-B84F-11D7-B0FE-00C026A19B93} = s &#x27;K7LogViewer&#x27;</li><li>val AppID = s {4B88C262-B84F-11D7-B0FE-00C026A19B93}</li><li>Copyright (C) 2003-2011 K7 Computing Pvt Ltd</li><li>val AppID = s &#x27;{4B88C262-B84F-11D7-B0FE-00C026A19B93}&#x27;</li><li>&#x27;K7LogViewer.EXE&#x27;</li><li>.?AVbad_alloc@std@@</li><li>`local static thread guard&#x27;</li><li>`placement delete[] closure&#x27;</li><li>.?AVbad_exception@std@@</li><li>IDS_ModuleK7TSVLog</li><li>`vector deleting destructor&#x27;</li><li>`placement delete closure&#x27;</li><li>InterlockedCompareExchange</li><li>LegalCopyright</li><li>.?AVtype_info@@</li><li>K7AVPELogView1</li><li>An application has made an attempt to load the C runtime library incorrectly.</li><li>`eh vector vbase constructor iterator&#x27;</li><li>This application has requested the Runtime to terminate it in an unusual way.</li><li>DirProductBase</li><li>.?AVCAtlException@ATL@@</li><li>K7 Computing Pvt Ltd1&gt;0&lt;</li><li>InterlockedExchange</li><li>.?AVexception@std@@</li><li>Please contact the application&#x27;s support team for more information.</li><li>&lt;&lt;&lt;Obsolete&gt;&gt;</li><li>K7 Computing Pvt Ltd0</li><li>K7 Computing Pvt Ltd</li><li>GetCurrentProcess</li><li>GetCurrentProcessId</li><li>GetLocaleInfoA</li><li>CorExitProcess</li><li>ClientToScreen</li><li>GetCurrentThreadId</li><li>WritePrivateProfileStringA</li><li>InitializeCriticalSection</li><li>InitCommonControlsEx</li><li>GetTokenInformation</li><li>SetThreadStackGuarantee</li><li>GetFileAttributesA</li><li>GetWindowRect</li><li>SetWindowLongA</li><li>SetForegroundWindow</li><li>EnterCriticalSection</li><li>SetEndOfFile</li><li>FreeEnvironmentStringsW</li><li>GetEnvironmentStrings</li><li>FreeEnvironmentStringsA</li><li>GetEnvironmentStringsW</li><li>GetCommandLineA</li><li>ScreenToClient</li><li>EndDeferWindowPos</li><li>DeferWindowPos</li><li>ShowWindow</li><li>GetActiveWindow</li><li>wsprintfA</li><li>LeaveCriticalSection</li><li>DeleteCriticalSection</li><li>GetLastError</li><li>SetLastError</li><li>UnmapViewOfFile</li><li>SizeofResource</li><li>HeapReAlloc</li><li>GetClientRect</li><li>AllocateAndInitializeSid</li><li>CoTaskMemAlloc</li><li>GetStockObject</li><li>HeapAlloc</li><li>CoTaskMemRealloc</li><li>SetEvent</li><li>LoadCursorA</li><li>SetCursor</li><li>DialogBoxParamA</li><li>CoInitialize</li><li>MessageBoxA</li><li>GetStringTypeA</li><li>FindResourceA</li><li>GetVersion</li><li>TlsSetValue</li><li>UnregisterClassA</li><li>IsDBCSLeadByte</li><li>GetConsoleCP</li><li>GetConsoleMode</li><li>TlsGetValue</li><li>VirtualFree</li><li>LoadStringA</li><li>LoadStringW</li><li>FlushFileBuffers</li><li>WriteConsoleA</li><li>WriteConsoleW</li><li>IsValidCodePage</li><li>GetSystemInfo</li><li>RaiseException</li><li>VirtualQuery</li><li>GetStartupInfoA</li><li>EndDialog</li><li>GetSystemTimeAsFileTime</li><li>CoUninitialize</li><li>CharNextA</li><li>ReleaseDC</li><li>SendMessageA</li><li>EncodePointer</li><li>CloseHandle</li><li>SelectObject</li><li>CreateFontIndirectA</li><li>GetObjectA</li><li>GetDeviceCaps</li><li>DecodePointer</li><li>GetSaveFileNameA</li><li>FlsSetValue</li><li>GetDlgItem</li><li>RegCloseKey</li><li>GetFileType</li><li>SetHandleCount</li><li>FlsGetValue</li><li>RegQueryInfoKeyA</li><li>CoTaskMemFree</li><li>LoadImageA</li><li>TlsAlloc</li><li>FlsAlloc</li><li>HeapSize</li><li>EqualSid</li><li>GetOEMCP</li><li>HeapFree</li><li>ProductVersion</li><li>SetStdHandle</li><li>LCMapStringA</li><li>GetStdHandle</li><li>lstrlenA</li><li>lstrcatA</li><li>lstrcmpiA</li><li>GetStringTypeW</li><li>LCMapStringW</li><li>RtlUnwind</li><li>lstrlenW</li><li>lstrcpyA</li><li>Wednesday</li><li>September</li><li>Saturday</li><li>December</li><li>November</li><li>TSA2048-1-530</li><li>February</li><li>Thursday</li><li>UTF-16LE</li><li>`local vftable&#x27;</li><li>__thiscall</li><li>Program:</li><li>`vftable&#x27;</li><li>__clrcall</li><li>__stdcall</li><li>__fastcall</li><li>Unknown exception</li><li>operator</li><li>VeriSign Trust Network1:08</li><li>VeriSign Trust Network1;09</li><li>__based(</li><li>USER32.DLL</li><li>bad allocation</li><li>`typeof&#x27;</li><li>__pascal</li><li>`vector constructor iterator&#x27;</li><li>USER32.dll</li><li>ole32.dll</li><li>`vector destructor iterator&#x27;</li><li>`copy constructor closure&#x27;</li><li>COMDLG32.dll</li><li>__restrict</li><li>DOMAIN error</li><li>`vbtable&#x27;</li><li>__unaligned</li><li>SING error</li><li>TLOSS error</li><li>runtime error</li><li>- unexpected heap error</li><li>Type Descriptor&#x27;</li><li>GDI32.dll</li><li>bad exception</li><li>`vector copy constructor iterator&#x27;</li><li>`eh vector constructor iterator&#x27;</li><li>`eh vector destructor iterator&#x27;</li><li>OLEAUT32.dll</li><li>ADVAPI32.dll</li><li>`omni callsig&#x27;</li><li>Advapi32.dll</li><li>&lt;program name unknown&gt;</li><li>KERNEL32.DLL</li><li>`udt returning&#x27;</li><li>- unable to initialize heap</li><li>Runtime Error!</li><li>KERNEL32.dll</li><li>kernel32.dll</li><li>- CRT not initialized</li><li>Base Class Array&#x27;</li><li>JanFebMarAprMayJunJulAugSepOctNovDec</li><li>HH:mm:ss</li><li>GetProcessWindowStation</li><li>SunMonTueWedThuFriSat</li><li>DefWindowProcA</li><li>InitializeCriticalSectionAndSpinCount</li><li>BeginDeferWindowPos</li><li>InterlockedPushEntrySList</li><li>InterlockedPopEntrySList</li><li>GetUserObjectInformationA</li><li>SetUnhandledExceptionFilter</li><li>GetLastActivePopup</li><li>MultiByteToWideChar</li><li>UnhandledExceptionFilter</li><li>FlushInstructionCache</li><li>`local vftable constructor closure&#x27;</li><li>`virtual displacement map&#x27;</li><li>Complete Object Locator&#x27;</li><li>- Attempt to use MSIL code from this assembly during native code initialization</li><li>`vbase destructor&#x27;</li><li>`vector vbase constructor iterator&#x27;</li><li>`scalar deleting destructor&#x27;</li><li>- not enough space for environment</li><li>- not enough space for locale information</li><li>This indicates a bug in your application. It is most likely the result of calling an MSIL-compiled (/clr) function from a native constructor or from DllMain.</li><li>Microsoft Visual C++ Runtime Library</li><li>`local static guard&#x27;</li><li>- pure virtual function call</li><li>- Attempt to initialize the CRT more than once.</li><li>- not enough space for arguments</li><li>`default constructor closure&#x27;</li><li>Class Hierarchy Descriptor&#x27;</li><li>- unexpected multithread lock error</li><li>`eh vector vbase copy constructor iterator&#x27;</li><li>`managed vector destructor iterator&#x27;</li><li>`vector vbase copy constructor iterator&#x27;</li><li>- unable to open console device</li><li>`managed vector copy constructor iterator&#x27;</li><li>`managed vector constructor iterator&#x27;</li><li>- not enough space for _onexit/atexit table</li><li>- not enough space for thread data</li><li>- not enough space for lowio initialization</li><li>Base Class Descriptor at (</li><li>- floating point support not loaded</li><li>- not enough space for stdio initialization</li><li>`dynamic initializer for &#x27;</li><li>`dynamic atexit destructor for &#x27;</li><li>This indicates a bug in your application.</li><li>`eh vector copy constructor iterator&#x27;</li><li>j&quot;^SSSSS</li><li>&lt;VeriSign Class 3 Public Primary Certification Authority - G50</li><li>Durbanville1</li><li>PPPPPPPP</li><li>s[S;7|G;w</li><li>&lt; tK&lt;\ttG</li><li>111105115433Z0#</li><li>120614235959Z0\\1</li><li>MM/dd/yy</li><li>5Digital ID Class 3 - Microsoft Software Validation v21</li><li>dddd, MMMM dd, yyyy</li><li>Thawte Certification1</li><li>Thawte Timestamping CA0</li><li>VeriSign, Inc.1</li><li>100208000000Z</li><li>200207235959Z0</li><li>031204000000Z</li><li>131203235959Z0S1</li><li>070615000000Z</li><li>121010235959Z0</li><li>ABCDEFGHIJKLMNOPQRSTUVWXYZ</li><li>%VeriSign Class 3 Code Signing 2010 CA0</li><li>abcdefghijklmnopqrstuvwxyz</li><li>&quot;VeriSign Time Stamping Services CA0</li><li>%VeriSign Class 3 Code Signing 2010 CA</li><li>&quot;VeriSign Time Stamping Services CA</li><li>040904b0</li><li>(((((                  H</li><li>h((((                  H</li><li>111011000000Z</li><li>VeriSign, Inc.1402</li><li>VeriSignMPKI-2-80</li><li>VeriSign, Inc.1+0)</li><li>1(c) 2006 VeriSign, Inc. - For authorized use only1E0C</li><li>+VeriSign Time Stamping Services Signer - G20</li><li>!&quot;#$%&amp;&#x27;()*+,-./0123456789:;&lt;=&gt;?@ABCDEFGHIJKLMNOPQRSTUVWXYZ[\\]^_`abcdefghijklmnopqrstuvwxyz{|}~</li><li>UQPXY]Y[</li><li>6^bMRQ4q</li><li>H</li><li>!&quot;#$%&amp;&#x27;()*+,-./0123456789:;&lt;=&gt;?@ABCDEFGHIJKLMNOPQRSTUVWXYZ[\\]^_`ABCDEFGHIJKLMNOPQRSTUVWXYZ{|}~</li><li>!&quot;#$%&amp;&#x27;()*+,-./0123456789:;&lt;=&gt;?@abcdefghijklmnopqrstuvwxyz[\\]^_`abcdefghijklmnopqrstuvwxyz{|}~</li>\n",
       "                </ul>\n",
       "            </details>\n",
       "        </p>\n",
       "        "
      ]
     },
     "metadata": {},
     "output_type": "display_data"
    },
    {
     "data": {
      "text/html": [
       "<b><hr /></b><h3>Matching Yara rules:</h3>"
      ]
     },
     "metadata": {},
     "output_type": "display_data"
    },
    {
     "data": {
      "text/html": [
       "<p><ul><li>base64.yar</li><li>ip.yar</li><li>url.yar</li><li>antidebug_antivm.yar</li><li>packer_compiler_signatures.yar</li><li>capabilities.yar</li><li>domain.yar</li><li>peid.yar</li></ul></p>"
      ]
     },
     "metadata": {},
     "output_type": "display_data"
    },
    {
     "data": {
      "text/html": [
       "<b><hr /></b><h3>Packer/compiler detected by PEID:</h3>"
      ]
     },
     "metadata": {},
     "output_type": "display_data"
    },
    {
     "data": {
      "text/html": [
       "<p>Microsoft Visual C++ 8</p>"
      ]
     },
     "metadata": {},
     "output_type": "display_data"
    },
    {
     "data": {
      "text/html": [
       "<b><hr /></b><h3>Packers matched by PE section:</h3>"
      ]
     },
     "metadata": {},
     "output_type": "display_data"
    },
    {
     "data": {
      "text/html": [
       "<p><b>NONE</b></p>"
      ]
     },
     "metadata": {},
     "output_type": "display_data"
    },
    {
     "data": {
      "text/html": [
       "<b><hr /></b><h3>PE Imports:</h3>"
      ]
     },
     "metadata": {},
     "output_type": "display_data"
    },
    {
     "data": {
      "text/html": [
       "\n",
       "        <p>\n",
       "            <details>\n",
       "                <summary>\n",
       "                    Click here to show all <b>152</b>\n",
       "                </summary>\n",
       "                <ul>\n",
       "                    <li>GetCurrentProcess - <b>Enumeration</b> [<a href=https://google.com/search?q=GetCurrentProcess>Google</a>] [<a href=https://malapi.io/winapi/GetCurrentProcess>MalAPI</a>]<li>LoadLibraryA - <b>Injection</b> [<a href=https://google.com/search?q=LoadLibraryA>Google</a>] [<a href=https://malapi.io/winapi/LoadLibraryA>MalAPI</a>]<li>GetProcAddress - <b>Injection</b> [<a href=https://google.com/search?q=GetProcAddress>Google</a>] [<a href=https://malapi.io/winapi/GetProcAddress>MalAPI</a>]<li>GetModuleHandleA - <b>Injection</b> [<a href=https://google.com/search?q=GetModuleHandleA>Google</a>] [<a href=https://malapi.io/winapi/GetModuleHandleA>MalAPI</a>]<li>GetCurrentThreadId - <b>Enumeration</b> [<a href=https://google.com/search?q=GetCurrentThreadId>Google</a>] [<a href=https://malapi.io/winapi/GetCurrentThreadId>MalAPI</a>]<li>ReadFile - <b>Enumeration</b> [<a href=https://google.com/search?q=ReadFile>Google</a>] [<a href=https://malapi.io/winapi/ReadFile>MalAPI</a>]<li>GetProcessHeap - <b>Injection</b> [<a href=https://google.com/search?q=GetProcessHeap>Google</a>] [<a href=https://malapi.io/winapi/GetProcessHeap>MalAPI</a>]<li>HeapAlloc - <b>Injection</b> [<a href=https://google.com/search?q=HeapAlloc>Google</a>] [<a href=https://malapi.io/winapi/HeapAlloc>MalAPI</a>]<li>GetFileAttributesA - <b>Enumeration</b> [<a href=https://google.com/search?q=GetFileAttributesA>Google</a>] [<a href=https://malapi.io/winapi/GetFileAttributesA>MalAPI</a>]<li>LoadLibraryExA - <b>Injection</b> [<a href=https://google.com/search?q=LoadLibraryExA>Google</a>] [<a href=https://malapi.io/winapi/LoadLibraryExA>MalAPI</a>]<li>LoadResource - <b>Evasion</b> [<a href=https://google.com/search?q=LoadResource>Google</a>] [<a href=https://malapi.io/winapi/LoadResource>MalAPI</a>]<li>SizeofResource - <b>Evasion</b> [<a href=https://google.com/search?q=SizeofResource>Google</a>] [<a href=https://malapi.io/winapi/SizeofResource>MalAPI</a>]<li>Sleep - <b>Evasion</b> [<a href=https://google.com/search?q=Sleep>Google</a>] [<a href=https://malapi.io/winapi/Sleep>MalAPI</a>]<li>MapViewOfFile - <b>Injection</b> [<a href=https://google.com/search?q=MapViewOfFile>Google</a>] [<a href=https://malapi.io/winapi/MapViewOfFile>MalAPI</a>]<li>CreateFileMappingA - <b>Injection</b> [<a href=https://google.com/search?q=CreateFileMappingA>Google</a>] [<a href=https://malapi.io/winapi/CreateFileMappingA>MalAPI</a>]<li>VirtualAlloc - <b>Injection</b> [<a href=https://google.com/search?q=VirtualAlloc>Google</a>] [<a href=https://malapi.io/winapi/VirtualAlloc>MalAPI</a>]<li>VirtualProtect - <b>Injection</b> [<a href=https://google.com/search?q=VirtualProtect>Google</a>] [<a href=https://malapi.io/winapi/VirtualProtect>MalAPI</a>]<li>IsDebuggerPresent - <b>Anti-Debugging</b> [<a href=https://google.com/search?q=IsDebuggerPresent>Google</a>] [<a href=https://malapi.io/winapi/IsDebuggerPresent>MalAPI</a>]<li>HeapReAlloc - <b>Injection</b> [<a href=https://google.com/search?q=HeapReAlloc>Google</a>] [<a href=https://malapi.io/winapi/HeapReAlloc>MalAPI</a>]<li>HeapCreate - <b>Injection</b> [<a href=https://google.com/search?q=HeapCreate>Google</a>] [<a href=https://malapi.io/winapi/HeapCreate>MalAPI</a>]<li>QueryPerformanceCounter - <b>Anti-Debugging</b> [<a href=https://google.com/search?q=QueryPerformanceCounter>Google</a>] [<a href=https://malapi.io/winapi/QueryPerformanceCounter>MalAPI</a>]<li>GetTickCount - <b>Anti-Debugging</b> [<a href=https://google.com/search?q=GetTickCount>Google</a>] [<a href=https://malapi.io/winapi/GetTickCount>MalAPI</a>]<li>GetCurrentProcessId - <b>Enumeration</b> [<a href=https://google.com/search?q=GetCurrentProcessId>Google</a>] [<a href=https://malapi.io/winapi/GetCurrentProcessId>MalAPI</a>]<li>GetSystemTimeAsFileTime - <b>Enumeration</b> [<a href=https://google.com/search?q=GetSystemTimeAsFileTime>Google</a>] [<a href=https://malapi.io/winapi/GetSystemTimeAsFileTime>MalAPI</a>]<li>GetDC - <b>Spying</b> [<a href=https://google.com/search?q=GetDC>Google</a>] [<a href=https://malapi.io/winapi/GetDC>MalAPI</a>]<li>SendMessageA - <b>Spying</b> [<a href=https://google.com/search?q=SendMessageA>Google</a>] [<a href=https://malapi.io/winapi/SendMessageA>MalAPI</a>]<li>OpenProcessToken - <b>Injection</b> [<a href=https://google.com/search?q=OpenProcessToken>Google</a>] [<a href=https://malapi.io/winapi/OpenProcessToken>MalAPI</a>]<li>RegQueryValueExA - <b>Enumeration</b> [<a href=https://google.com/search?q=RegQueryValueExA>Google</a>] [<a href=https://malapi.io/winapi/RegQueryValueExA>MalAPI</a>]<li>RegEnumKeyExA - <b>Enumeration</b> [<a href=https://google.com/search?q=RegEnumKeyExA>Google</a>] [<a href=https://malapi.io/winapi/RegEnumKeyExA>MalAPI</a>]<li>RegQueryInfoKeyA - <b>Enumeration</b> [<a href=https://google.com/search?q=RegQueryInfoKeyA>Google</a>] [<a href=https://malapi.io/winapi/RegQueryInfoKeyA>MalAPI</a>]<li>lstrcatA - <b>Helper</b> [<a href=https://google.com/search?q=lstrcatA>Google</a>] [<a href=https://malapi.io/winapi/lstrcatA>MalAPI</a>]<li>FindResourceA - <b>Helper</b> [<a href=https://google.com/search?q=FindResourceA>Google</a>] [<a href=https://malapi.io/winapi/FindResourceA>MalAPI</a>]<li>GetModuleFileNameA - <b>Helper</b> [<a href=https://google.com/search?q=GetModuleFileNameA>Google</a>] [<a href=https://malapi.io/winapi/GetModuleFileNameA>MalAPI</a>]<li>CreateFileA - <b>Helper</b> [<a href=https://google.com/search?q=CreateFileA>Google</a>] [<a href=https://malapi.io/winapi/CreateFileA>MalAPI</a>]<li>UnmapViewOfFile - <b>Helper</b> [<a href=https://google.com/search?q=UnmapViewOfFile>Google</a>] [<a href=https://malapi.io/winapi/UnmapViewOfFile>MalAPI</a>]<li>TerminateProcess - <b>Helper</b> [<a href=https://google.com/search?q=TerminateProcess>Google</a>] [<a href=https://malapi.io/winapi/TerminateProcess>MalAPI</a>]<li>WriteFile - <b>Helper</b> [<a href=https://google.com/search?q=WriteFile>Google</a>] [<a href=https://malapi.io/winapi/WriteFile>MalAPI</a>]<li>SetWindowLongA - <b>Helper</b> [<a href=https://google.com/search?q=SetWindowLongA>Google</a>] [<a href=https://malapi.io/winapi/SetWindowLongA>MalAPI</a>]<li>ShowWindow - <b>Helper</b> [<a href=https://google.com/search?q=ShowWindow>Google</a>] [<a href=https://malapi.io/winapi/ShowWindow>MalAPI</a>]<li>SetForegroundWindow - <b>Helper</b> [<a href=https://google.com/search?q=SetForegroundWindow>Google</a>] [<a href=https://malapi.io/winapi/SetForegroundWindow>MalAPI</a>]<li>RegDeleteKeyA - <b>Helper</b> [<a href=https://google.com/search?q=RegDeleteKeyA>Google</a>] [<a href=https://malapi.io/winapi/RegDeleteKeyA>MalAPI</a>]<li>RegDeleteValueA - <b>Helper</b> [<a href=https://google.com/search?q=RegDeleteValueA>Google</a>] [<a href=https://malapi.io/winapi/RegDeleteValueA>MalAPI</a>]<li>RegSetValueExA - <b>Helper</b> [<a href=https://google.com/search?q=RegSetValueExA>Google</a>] [<a href=https://malapi.io/winapi/RegSetValueExA>MalAPI</a>]<li>RegOpenKeyExA - <b>Helper</b> [<a href=https://google.com/search?q=RegOpenKeyExA>Google</a>] [<a href=https://malapi.io/winapi/RegOpenKeyExA>MalAPI</a>]<li>RegCreateKeyExA - <b>Helper</b> [<a href=https://google.com/search?q=RegCreateKeyExA>Google</a>] [<a href=https://malapi.io/winapi/RegCreateKeyExA>MalAPI</a>]<li>RegCloseKey - <b>Helper</b> [<a href=https://google.com/search?q=RegCloseKey>Google</a>] [<a href=https://malapi.io/winapi/RegCloseKey>MalAPI</a>]<li>InitCommonControlsEx [<a href=https://google.com/search?q=InitCommonControlsEx>Google</a>]</li><li>lstrcpyA [<a href=https://google.com/search?q=lstrcpyA>Google</a>]</li><li>SetLastError [<a href=https://google.com/search?q=SetLastError>Google</a>]</li><li>MulDiv [<a href=https://google.com/search?q=MulDiv>Google</a>]</li><li>CloseHandle [<a href=https://google.com/search?q=CloseHandle>Google</a>]</li><li>MultiByteToWideChar [<a href=https://google.com/search?q=MultiByteToWideChar>Google</a>]</li><li>WideCharToMultiByte [<a href=https://google.com/search?q=WideCharToMultiByte>Google</a>]</li><li>lstrlenW [<a href=https://google.com/search?q=lstrlenW>Google</a>]</li><li>RaiseException [<a href=https://google.com/search?q=RaiseException>Google</a>]</li><li>InitializeCriticalSection [<a href=https://google.com/search?q=InitializeCriticalSection>Google</a>]</li><li>DeleteCriticalSection [<a href=https://google.com/search?q=DeleteCriticalSection>Google</a>]</li><li>GetLastError [<a href=https://google.com/search?q=GetLastError>Google</a>]</li><li>InterlockedDecrement [<a href=https://google.com/search?q=InterlockedDecrement>Google</a>]</li><li>lstrlenA [<a href=https://google.com/search?q=lstrlenA>Google</a>]</li><li>lstrcmpiA [<a href=https://google.com/search?q=lstrcmpiA>Google</a>]</li><li>SetEvent [<a href=https://google.com/search?q=SetEvent>Google</a>]</li><li>SetEndOfFile [<a href=https://google.com/search?q=SetEndOfFile>Google</a>]</li><li>FlushInstructionCache [<a href=https://google.com/search?q=FlushInstructionCache>Google</a>]</li><li>GetConsoleOutputCP [<a href=https://google.com/search?q=GetConsoleOutputCP>Google</a>]</li><li>WriteConsoleA [<a href=https://google.com/search?q=WriteConsoleA>Google</a>]</li><li>SetFilePointer [<a href=https://google.com/search?q=SetFilePointer>Google</a>]</li><li>HeapFree [<a href=https://google.com/search?q=HeapFree>Google</a>]</li><li>ExitProcess [<a href=https://google.com/search?q=ExitProcess>Google</a>]</li><li>LeaveCriticalSection [<a href=https://google.com/search?q=LeaveCriticalSection>Google</a>]</li><li>EnterCriticalSection [<a href=https://google.com/search?q=EnterCriticalSection>Google</a>]</li><li>FreeLibrary [<a href=https://google.com/search?q=FreeLibrary>Google</a>]</li><li>IsDBCSLeadByte [<a href=https://google.com/search?q=IsDBCSLeadByte>Google</a>]</li><li>GetModuleHandleW [<a href=https://google.com/search?q=GetModuleHandleW>Google</a>]</li><li>InterlockedIncrement [<a href=https://google.com/search?q=InterlockedIncrement>Google</a>]</li><li>FlushFileBuffers [<a href=https://google.com/search?q=FlushFileBuffers>Google</a>]</li><li>GetConsoleMode [<a href=https://google.com/search?q=GetConsoleMode>Google</a>]</li><li>GetConsoleCP [<a href=https://google.com/search?q=GetConsoleCP>Google</a>]</li><li>SetStdHandle [<a href=https://google.com/search?q=SetStdHandle>Google</a>]</li><li>InitializeCriticalSectionAndSpinCount [<a href=https://google.com/search?q=InitializeCriticalSectionAndSpinCount>Google</a>]</li><li>GetLocaleInfoA [<a href=https://google.com/search?q=GetLocaleInfoA>Google</a>]</li><li>GetCommandLineA [<a href=https://google.com/search?q=GetCommandLineA>Google</a>]</li><li>GetStringTypeW [<a href=https://google.com/search?q=GetStringTypeW>Google</a>]</li><li>GetStringTypeA [<a href=https://google.com/search?q=GetStringTypeA>Google</a>]</li><li>InterlockedExchange [<a href=https://google.com/search?q=InterlockedExchange>Google</a>]</li><li>WriteConsoleW [<a href=https://google.com/search?q=WriteConsoleW>Google</a>]</li><li>WritePrivateProfileStringA [<a href=https://google.com/search?q=WritePrivateProfileStringA>Google</a>]</li><li>GetVersion [<a href=https://google.com/search?q=GetVersion>Google</a>]</li><li>InterlockedCompareExchange [<a href=https://google.com/search?q=InterlockedCompareExchange>Google</a>]</li><li>IsProcessorFeaturePresent [<a href=https://google.com/search?q=IsProcessorFeaturePresent>Google</a>]</li><li>VirtualFree [<a href=https://google.com/search?q=VirtualFree>Google</a>]</li><li>GetSystemInfo [<a href=https://google.com/search?q=GetSystemInfo>Google</a>]</li><li>VirtualQuery [<a href=https://google.com/search?q=VirtualQuery>Google</a>]</li><li>RtlUnwind [<a href=https://google.com/search?q=RtlUnwind>Google</a>]</li><li>GetStartupInfoA [<a href=https://google.com/search?q=GetStartupInfoA>Google</a>]</li><li>UnhandledExceptionFilter [<a href=https://google.com/search?q=UnhandledExceptionFilter>Google</a>]</li><li>SetUnhandledExceptionFilter [<a href=https://google.com/search?q=SetUnhandledExceptionFilter>Google</a>]</li><li>GetCPInfo [<a href=https://google.com/search?q=GetCPInfo>Google</a>]</li><li>GetACP [<a href=https://google.com/search?q=GetACP>Google</a>]</li><li>GetOEMCP [<a href=https://google.com/search?q=GetOEMCP>Google</a>]</li><li>IsValidCodePage [<a href=https://google.com/search?q=IsValidCodePage>Google</a>]</li><li>TlsGetValue [<a href=https://google.com/search?q=TlsGetValue>Google</a>]</li><li>TlsAlloc [<a href=https://google.com/search?q=TlsAlloc>Google</a>]</li><li>TlsSetValue [<a href=https://google.com/search?q=TlsSetValue>Google</a>]</li><li>TlsFree [<a href=https://google.com/search?q=TlsFree>Google</a>]</li><li>GetStdHandle [<a href=https://google.com/search?q=GetStdHandle>Google</a>]</li><li>HeapSize [<a href=https://google.com/search?q=HeapSize>Google</a>]</li><li>LCMapStringA [<a href=https://google.com/search?q=LCMapStringA>Google</a>]</li><li>LCMapStringW [<a href=https://google.com/search?q=LCMapStringW>Google</a>]</li><li>SetHandleCount [<a href=https://google.com/search?q=SetHandleCount>Google</a>]</li><li>GetFileType [<a href=https://google.com/search?q=GetFileType>Google</a>]</li><li>FreeEnvironmentStringsA [<a href=https://google.com/search?q=FreeEnvironmentStringsA>Google</a>]</li><li>GetEnvironmentStrings [<a href=https://google.com/search?q=GetEnvironmentStrings>Google</a>]</li><li>FreeEnvironmentStringsW [<a href=https://google.com/search?q=FreeEnvironmentStringsW>Google</a>]</li><li>GetEnvironmentStringsW [<a href=https://google.com/search?q=GetEnvironmentStringsW>Google</a>]</li><li>wsprintfA [<a href=https://google.com/search?q=wsprintfA>Google</a>]</li><li>CharNextA [<a href=https://google.com/search?q=CharNextA>Google</a>]</li><li>ReleaseDC [<a href=https://google.com/search?q=ReleaseDC>Google</a>]</li><li>DialogBoxParamA [<a href=https://google.com/search?q=DialogBoxParamA>Google</a>]</li><li>EndDialog [<a href=https://google.com/search?q=EndDialog>Google</a>]</li><li>DefWindowProcA [<a href=https://google.com/search?q=DefWindowProcA>Google</a>]</li><li>GetDlgItem [<a href=https://google.com/search?q=GetDlgItem>Google</a>]</li><li>LoadImageA [<a href=https://google.com/search?q=LoadImageA>Google</a>]</li><li>LoadStringW [<a href=https://google.com/search?q=LoadStringW>Google</a>]</li><li>LoadStringA [<a href=https://google.com/search?q=LoadStringA>Google</a>]</li><li>UnregisterClassA [<a href=https://google.com/search?q=UnregisterClassA>Google</a>]</li><li>LoadCursorA [<a href=https://google.com/search?q=LoadCursorA>Google</a>]</li><li>SetCursor [<a href=https://google.com/search?q=SetCursor>Google</a>]</li><li>BeginDeferWindowPos [<a href=https://google.com/search?q=BeginDeferWindowPos>Google</a>]</li><li>DeferWindowPos [<a href=https://google.com/search?q=DeferWindowPos>Google</a>]</li><li>EndDeferWindowPos [<a href=https://google.com/search?q=EndDeferWindowPos>Google</a>]</li><li>GetWindowRect [<a href=https://google.com/search?q=GetWindowRect>Google</a>]</li><li>GetClientRect [<a href=https://google.com/search?q=GetClientRect>Google</a>]</li><li>ClientToScreen [<a href=https://google.com/search?q=ClientToScreen>Google</a>]</li><li>ScreenToClient [<a href=https://google.com/search?q=ScreenToClient>Google</a>]</li><li>CreateFontIndirectA [<a href=https://google.com/search?q=CreateFontIndirectA>Google</a>]</li><li>GetDeviceCaps [<a href=https://google.com/search?q=GetDeviceCaps>Google</a>]</li><li>SelectObject [<a href=https://google.com/search?q=SelectObject>Google</a>]</li><li>GetStockObject [<a href=https://google.com/search?q=GetStockObject>Google</a>]</li><li>GetObjectA [<a href=https://google.com/search?q=GetObjectA>Google</a>]</li><li>GetSaveFileNameA [<a href=https://google.com/search?q=GetSaveFileNameA>Google</a>]</li><li>GetTokenInformation [<a href=https://google.com/search?q=GetTokenInformation>Google</a>]</li><li>AllocateAndInitializeSid [<a href=https://google.com/search?q=AllocateAndInitializeSid>Google</a>]</li><li>EqualSid [<a href=https://google.com/search?q=EqualSid>Google</a>]</li><li>FreeSid [<a href=https://google.com/search?q=FreeSid>Google</a>]</li><li>CoTaskMemAlloc [<a href=https://google.com/search?q=CoTaskMemAlloc>Google</a>]</li><li>CoTaskMemRealloc [<a href=https://google.com/search?q=CoTaskMemRealloc>Google</a>]</li><li>CoTaskMemFree [<a href=https://google.com/search?q=CoTaskMemFree>Google</a>]</li><li>CoUninitialize [<a href=https://google.com/search?q=CoUninitialize>Google</a>]</li><li>CoInitialize [<a href=https://google.com/search?q=CoInitialize>Google</a>]</li><li>CoCreateInstance [<a href=https://google.com/search?q=CoCreateInstance>Google</a>]</li><li>VarUI4FromStr [<a href=https://google.com/search?q=VarUI4FromStr>Google</a>]</li>\n",
       "                </ul>\n",
       "            </details>\n",
       "        </p>\n",
       "        "
      ]
     },
     "metadata": {},
     "output_type": "display_data"
    }
   ],
   "source": [
    "import os\n",
    "from os import path\n",
    "\n",
    "for sample_zip in os.listdir('samples'):\n",
    "       sample_path = path.join('samples', sample_zip)\n",
    "       windows.scan(sample_path, config)"
   ]
  }
 ],
 "metadata": {
  "kernelspec": {
   "display_name": "Python 3 (ipykernel)",
   "language": "python",
   "name": "python3"
  },
  "language_info": {
   "codemirror_mode": {
    "name": "ipython",
    "version": 3
   },
   "file_extension": ".py",
   "mimetype": "text/x-python",
   "name": "python",
   "nbconvert_exporter": "python",
   "pygments_lexer": "ipython3",
   "version": "3.9.10"
  }
 },
 "nbformat": 4,
 "nbformat_minor": 2
}
